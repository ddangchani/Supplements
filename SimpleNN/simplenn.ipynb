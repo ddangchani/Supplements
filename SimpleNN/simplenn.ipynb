{
 "cells": [
  {
   "cell_type": "code",
   "execution_count": null,
   "metadata": {},
   "outputs": [],
   "source": [
    "import tensorflow as tf\n",
    "from tensorflow import keras\n",
    "from keras.datasets import mnist\n",
    "import numpy as np"
   ]
  },
  {
   "cell_type": "code",
   "execution_count": null,
   "metadata": {},
   "outputs": [],
   "source": [
    "(X_train, y_train), (X_test, y_test) = mnist.load_data()\n",
    "X_train.shape"
   ]
  },
  {
   "cell_type": "code",
   "execution_count": null,
   "metadata": {},
   "outputs": [],
   "source": [
    "import matplotlib.pyplot as plt\n",
    "img = X_train[0]\n",
    "img_reshaped = img.reshape(28,28)\n",
    "img_reshaped.shape\n",
    "\n",
    "plt.figure(figsize=(4,4))\n",
    "plt.title('sample of ' + str(y_train[0]))\n",
    "plt.imshow(img_reshaped, cmap='gray')\n",
    "plt.show()"
   ]
  },
  {
   "cell_type": "code",
   "execution_count": null,
   "metadata": {},
   "outputs": [],
   "source": [
    "class Network(object):\n",
    "    def __init__(self, n_layers):\n",
    "        self.params = []\n",
    "\n",
    "        self.W1 = tf.Variable(\n",
    "            tf.random.normal([n_layers[0],n_layers[1]],stddev=0.1), name='W1'\n",
    "        )\n",
    "        self.b1 = tf.Variable(tf.zeros([1,n_layers[1]]))\n",
    "\n",
    "        self.W2 = tf.Variable(\n",
    "\t\t\ttf.random.normal([n_layers[1], n_layers[2]], stddev=0.1), name='W2'\n",
    "\t\t)\n",
    "        self.b2 = tf.Variable(tf.zeros([1,n_layers[2]]))\n",
    "\n",
    "        self.W3 = tf.Variable(\n",
    "\t\t\ttf.random.normal([n_layers[2], n_layers[3]],stddev=0.1), name='W3'\n",
    "        )\n",
    "        self.b3 = tf.Variable(tf.zeros([1, n_layers[3]]))\n",
    "\n",
    "        self.params = [self.W1, self.b1, self.W2, self.b2, self.W3, self.b3]\n",
    "\n",
    "    def forward(self, x):\n",
    "        X_tf = tf.cast(x, dtype=tf.float32)\n",
    "        Z1 = tf.matmul(X_tf, self.W1) + self.b1\n",
    "        Z1 = tf.nn.relu(Z1)\n",
    "        Z2 = tf.matmul(Z1, self.W2) + self.b2\n",
    "        Z2 = tf.nn.relu(Z2)\n",
    "        Z3 = tf.matmul(Z2, self.W3) + self.b3\n",
    "        # Y = tf.nn.sigmoid(Z3)\n",
    "        return Z3\n",
    "\n",
    "    def loss(self, y_true, logits):\n",
    "        y_true_tf = tf.cast(tf.reshape(y_true, (-1,1)), dtype = tf.float32)\n",
    "        logits_tf = tf.cast(tf.reshape(logits, (-1,1)), dtype = tf.float32)\n",
    "        return tf.nn.sigmoid_cross_entropy_with_logits(y_true_tf,logits_tf) \n",
    "\n",
    "    def backward(self, x, y):\n",
    "        optimizer = tf.keras.optimizers.SGD(learning_rate=0.01)\n",
    "        with tf.GradientTape() as tape:\n",
    "            predicted = self.forward(x)\n",
    "            current_loss = self.loss(y, predicted)\n",
    "        grads = tape.gradient(current_loss, self.params)\n",
    "        optimizer.apply_gradients(zip(grads, self.params))\n"
   ]
  },
  {
   "cell_type": "code",
   "execution_count": null,
   "metadata": {},
   "outputs": [],
   "source": [
    "n_layers = [784, 100, 30, 10]\n",
    "epochs = 100\n",
    "X_reshape = X_train.reshape(60000,784).astype('float32')/255.0\n",
    "y_one_hot = tf.one_hot(y_train, depth = 10)\n",
    "\n",
    "net = Network(n_layers)"
   ]
  },
  {
   "cell_type": "code",
   "execution_count": null,
   "metadata": {},
   "outputs": [],
   "source": [
    "from sklearn.metrics import precision_score, f1_score\n",
    "for epoch in range(epochs):\n",
    "    net.backward(X_reshape,y_one_hot)\n",
    "    acc =f1_score(y_true = tf.math.argmax(y_one_hot,1), y_pred = tf.math.argmax(net.forward(X_reshape),1),average='micro')\n",
    "    if epoch % 10 == 0:\n",
    "        print('accuracy score : {score}'.format(score = acc * 100))\n"
   ]
  }
 ],
 "metadata": {
  "interpreter": {
   "hash": "057b2dfdcbeb6152fe7a6de916733e2aadd6aefdf07a18e5e9a0b06119769157"
  },
  "kernelspec": {
   "display_name": "Python 3.9.7 ('atf')",
   "language": "python",
   "name": "python3"
  },
  "language_info": {
   "codemirror_mode": {
    "name": "ipython",
    "version": 3
   },
   "file_extension": ".py",
   "mimetype": "text/x-python",
   "name": "python",
   "nbconvert_exporter": "python",
   "pygments_lexer": "ipython3",
   "version": "3.9.7"
  },
  "orig_nbformat": 4
 },
 "nbformat": 4,
 "nbformat_minor": 2
}
