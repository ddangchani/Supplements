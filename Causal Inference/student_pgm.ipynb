{
 "cells": [
  {
   "cell_type": "markdown",
   "metadata": {},
   "source": [
    "Code from</br>\n",
    "\n",
    "https://colab.research.google.com/github/probml/pyprobml/blob/master/notebooks/book2/04/student_pgm.ipynb#scrollTo=8FEYdsYCXYj5"
   ]
  },
  {
   "cell_type": "code",
   "execution_count": 9,
   "metadata": {},
   "outputs": [],
   "source": [
    "import probml_utils.pgmpy_utils as pgm\n",
    "from causalgraphicalmodels import CausalGraphicalModel\n",
    "import pgmpy\n",
    "import numpy as np\n",
    "import pandas as pd\n",
    "from pgmpy.models import BayesianNetwork\n",
    "from pgmpy.factors.discrete import TabularCPD"
   ]
  },
  {
   "cell_type": "code",
   "execution_count": 14,
   "metadata": {},
   "outputs": [],
   "source": [
    "model = BayesianNetwork([('Diff', 'Grade'), ('Intel', 'Grade'), ('Grade', 'Letter'), ('Intel', 'SAT')])"
   ]
  },
  {
   "cell_type": "code",
   "execution_count": 19,
   "metadata": {},
   "outputs": [
    {
     "data": {
      "text/plain": [
       "True"
      ]
     },
     "execution_count": 19,
     "metadata": {},
     "output_type": "execute_result"
    }
   ],
   "source": [
    "# Define Individual CPD with state name\n",
    "cpd_d_sn = TabularCPD(variable=\"Diff\", variable_card=2, values=[[0.6], [0.4]], state_names={\"Diff\": [\"Easy\", \"Hard\"]})\n",
    "cpd_i_sn = TabularCPD(variable=\"Intel\", variable_card=2, values=[[0.7], [0.3]], state_names={\"Intel\": [\"Low\", \"High\"]})\n",
    "cpd_g_sn = TabularCPD(\n",
    "    variable=\"Grade\",\n",
    "    variable_card=3,\n",
    "    values=[[0.3, 0.05, 0.9, 0.5], [0.4, 0.25, 0.08, 0.3], [0.3, 0.7, 0.02, 0.2]],\n",
    "    evidence=[\"Intel\", \"Diff\"],\n",
    "    evidence_card=[2, 2],\n",
    "    state_names={\"Grade\": [\"A\", \"B\", \"C\"], \"Intel\": [\"Low\", \"High\"], \"Diff\": [\"Easy\", \"Hard\"]},\n",
    ")\n",
    "\n",
    "cpd_l_sn = TabularCPD(\n",
    "    variable=\"Letter\",\n",
    "    variable_card=2,\n",
    "    values=[[0.1, 0.4, 0.99], [0.9, 0.6, 0.01]],\n",
    "    evidence=[\"Grade\"],\n",
    "    evidence_card=[3],\n",
    "    state_names={\"Letter\": [\"Bad\", \"Good\"], \"Grade\": [\"A\", \"B\", \"C\"]},\n",
    ")\n",
    "\n",
    "cpd_s_sn = TabularCPD(\n",
    "    variable=\"SAT\",\n",
    "    variable_card=2,\n",
    "    values=[[0.95, 0.2], [0.05, 0.8]],\n",
    "    evidence=[\"Intel\"],\n",
    "    evidence_card=[2],\n",
    "    state_names={\"SAT\": [\"Bad\", \"Good\"], \"Intel\": [\"Low\", \"High\"]},\n",
    ")\n",
    "\n",
    "# These defined CPDs can be added to the model. Since, the model already has CPDs associated to variables, it will\n",
    "# show warning that pmgpy is now replacing those CPDs with the new ones.\n",
    "model.add_cpds(cpd_d_sn, cpd_i_sn, cpd_g_sn, cpd_l_sn, cpd_s_sn)\n",
    "model.check_model()"
   ]
  },
  {
   "cell_type": "code",
   "execution_count": null,
   "metadata": {},
   "outputs": [],
   "source": [
    "for cpd in model.get_cpds():\n",
    "    print(cpd)"
   ]
  },
  {
   "cell_type": "markdown",
   "metadata": {},
   "source": [
    "## Inference"
   ]
  },
  {
   "cell_type": "code",
   "execution_count": 24,
   "metadata": {},
   "outputs": [],
   "source": [
    "from pgmpy.inference import VariableElimination\n",
    "\n",
    "infer = VariableElimination(model)"
   ]
  },
  {
   "cell_type": "code",
   "execution_count": 36,
   "metadata": {},
   "outputs": [
    {
     "data": {
      "application/json": {
       "ascii": false,
       "bar_format": null,
       "colour": null,
       "elapsed": 0.011655092239379883,
       "initial": 0,
       "n": 0,
       "ncols": null,
       "nrows": null,
       "postfix": null,
       "prefix": "",
       "rate": null,
       "total": 1,
       "unit": "it",
       "unit_divisor": 1000,
       "unit_scale": false
      },
      "application/vnd.jupyter.widget-view+json": {
       "model_id": "a974ff55c195441ab6710d8f3644dc3b",
       "version_major": 2,
       "version_minor": 0
      },
      "text/plain": [
       "  0%|          | 0/1 [00:00<?, ?it/s]"
      ]
     },
     "metadata": {},
     "output_type": "display_data"
    },
    {
     "data": {
      "application/json": {
       "ascii": false,
       "bar_format": null,
       "colour": null,
       "elapsed": 0.013451099395751953,
       "initial": 0,
       "n": 0,
       "ncols": null,
       "nrows": null,
       "postfix": null,
       "prefix": "",
       "rate": null,
       "total": 1,
       "unit": "it",
       "unit_divisor": 1000,
       "unit_scale": false
      },
      "application/vnd.jupyter.widget-view+json": {
       "model_id": "431ac177587f41db86a05b5a57e4597b",
       "version_major": 2,
       "version_minor": 0
      },
      "text/plain": [
       "  0%|          | 0/1 [00:00<?, ?it/s]"
      ]
     },
     "metadata": {},
     "output_type": "display_data"
    },
    {
     "name": "stdout",
     "output_type": "stream",
     "text": [
      "Pr(Difficulty=Hard|Grade=B) = 0.37\n"
     ]
    }
   ],
   "source": [
    "evidence = {'Grade' : 'B'} # posterior given grade=B\n",
    "postD = infer.query(['Diff'], evidence).values\n",
    "print(\"Pr(Difficulty=Hard|Grade=B) = {:0.2f}\".format(postD[1]))"
   ]
  },
  {
   "cell_type": "markdown",
   "metadata": {},
   "source": [
    "## Visualization"
   ]
  },
  {
   "cell_type": "code",
   "execution_count": 39,
   "metadata": {},
   "outputs": [
    {
     "data": {
      "image/svg+xml": "<?xml version=\"1.0\" encoding=\"UTF-8\" standalone=\"no\"?>\n<!DOCTYPE svg PUBLIC \"-//W3C//DTD SVG 1.1//EN\"\n \"http://www.w3.org/Graphics/SVG/1.1/DTD/svg11.dtd\">\n<!-- Generated by graphviz version 6.0.1 (20220911.1526)\n -->\n<!-- Pages: 1 -->\n<svg width=\"144pt\" height=\"188pt\"\n viewBox=\"0.00 0.00 144.50 188.00\" xmlns=\"http://www.w3.org/2000/svg\" xmlns:xlink=\"http://www.w3.org/1999/xlink\">\n<g id=\"graph0\" class=\"graph\" transform=\"scale(1 1) rotate(0) translate(4 184)\">\n<polygon fill=\"white\" stroke=\"none\" points=\"-4,4 -4,-184 140.5,-184 140.5,4 -4,4\"/>\n<!-- Diff -->\n<g id=\"node1\" class=\"node\">\n<title>Diff</title>\n<ellipse fill=\"none\" stroke=\"black\" cx=\"32.5\" cy=\"-162\" rx=\"27\" ry=\"18\"/>\n<text text-anchor=\"middle\" x=\"32.5\" y=\"-158.3\" font-family=\"Times,serif\" font-size=\"14.00\">Diff</text>\n</g>\n<!-- Grade -->\n<g id=\"node5\" class=\"node\">\n<title>Grade</title>\n<ellipse fill=\"none\" stroke=\"black\" cx=\"32.5\" cy=\"-90\" rx=\"32.49\" ry=\"18\"/>\n<text text-anchor=\"middle\" x=\"32.5\" y=\"-86.3\" font-family=\"Times,serif\" font-size=\"14.00\">Grade</text>\n</g>\n<!-- Diff&#45;&gt;Grade -->\n<g id=\"edge1\" class=\"edge\">\n<title>Diff&#45;&gt;Grade</title>\n<path fill=\"none\" stroke=\"black\" d=\"M32.5,-143.7C32.5,-135.98 32.5,-126.71 32.5,-118.11\"/>\n<polygon fill=\"black\" stroke=\"black\" points=\"36,-118.1 32.5,-108.1 29,-118.1 36,-118.1\"/>\n</g>\n<!-- Intel -->\n<g id=\"node2\" class=\"node\">\n<title>Intel</title>\n<ellipse fill=\"none\" stroke=\"black\" cx=\"106.5\" cy=\"-162\" rx=\"27\" ry=\"18\"/>\n<text text-anchor=\"middle\" x=\"106.5\" y=\"-158.3\" font-family=\"Times,serif\" font-size=\"14.00\">Intel</text>\n</g>\n<!-- SAT -->\n<g id=\"node3\" class=\"node\">\n<title>SAT</title>\n<ellipse fill=\"none\" stroke=\"black\" cx=\"109.5\" cy=\"-90\" rx=\"27\" ry=\"18\"/>\n<text text-anchor=\"middle\" x=\"109.5\" y=\"-86.3\" font-family=\"Times,serif\" font-size=\"14.00\">SAT</text>\n</g>\n<!-- Intel&#45;&gt;SAT -->\n<g id=\"edge4\" class=\"edge\">\n<title>Intel&#45;&gt;SAT</title>\n<path fill=\"none\" stroke=\"black\" d=\"M107.24,-143.7C107.57,-135.98 107.97,-126.71 108.34,-118.11\"/>\n<polygon fill=\"black\" stroke=\"black\" points=\"111.83,-118.25 108.76,-108.1 104.84,-117.95 111.83,-118.25\"/>\n</g>\n<!-- Intel&#45;&gt;Grade -->\n<g id=\"edge3\" class=\"edge\">\n<title>Intel&#45;&gt;Grade</title>\n<path fill=\"none\" stroke=\"black\" d=\"M91.52,-146.83C81.2,-137.07 67.28,-123.9 55.55,-112.8\"/>\n<polygon fill=\"black\" stroke=\"black\" points=\"57.89,-110.2 48.22,-105.87 53.08,-115.28 57.89,-110.2\"/>\n</g>\n<!-- Letter -->\n<g id=\"node4\" class=\"node\">\n<title>Letter</title>\n<ellipse fill=\"none\" stroke=\"black\" cx=\"32.5\" cy=\"-18\" rx=\"31.7\" ry=\"18\"/>\n<text text-anchor=\"middle\" x=\"32.5\" y=\"-14.3\" font-family=\"Times,serif\" font-size=\"14.00\">Letter</text>\n</g>\n<!-- Grade&#45;&gt;Letter -->\n<g id=\"edge2\" class=\"edge\">\n<title>Grade&#45;&gt;Letter</title>\n<path fill=\"none\" stroke=\"black\" d=\"M32.5,-71.7C32.5,-63.98 32.5,-54.71 32.5,-46.11\"/>\n<polygon fill=\"black\" stroke=\"black\" points=\"36,-46.1 32.5,-36.1 29,-46.1 36,-46.1\"/>\n</g>\n</g>\n</svg>\n",
      "text/plain": [
       "<graphviz.graphs.Digraph at 0x161a4d400>"
      ]
     },
     "metadata": {},
     "output_type": "display_data"
    }
   ],
   "source": [
    "# DAG\n",
    "model2 = CausalGraphicalModel(nodes=model.nodes(), edges=model.edges())\n",
    "dot = model2.draw()\n",
    "display(dot)"
   ]
  },
  {
   "cell_type": "code",
   "execution_count": 40,
   "metadata": {},
   "outputs": [
    {
     "data": {
      "image/svg+xml": "<?xml version=\"1.0\" encoding=\"UTF-8\" standalone=\"no\"?>\n<!DOCTYPE svg PUBLIC \"-//W3C//DTD SVG 1.1//EN\"\n \"http://www.w3.org/Graphics/SVG/1.1/DTD/svg11.dtd\">\n<!-- Generated by graphviz version 6.0.1 (20220911.1526)\n -->\n<!-- Title: model_ Pages: 1 -->\n<svg width=\"478pt\" height=\"586pt\"\n viewBox=\"0.00 0.00 477.57 586.29\" xmlns=\"http://www.w3.org/2000/svg\" xmlns:xlink=\"http://www.w3.org/1999/xlink\">\n<g id=\"graph0\" class=\"graph\" transform=\"scale(1 1) rotate(0) translate(4 582.29)\">\n<title>model_</title>\n<polygon fill=\"white\" stroke=\"none\" points=\"-4,4 -4,-582.29 473.57,-582.29 473.57,4 -4,4\"/>\n<!-- Diff -->\n<g id=\"node1\" class=\"node\">\n<title>Diff</title>\n<ellipse fill=\"none\" stroke=\"black\" cx=\"135.06\" cy=\"-521.01\" rx=\"64.19\" ry=\"57.05\"/>\n<polygon fill=\"none\" stroke=\"black\" points=\"101.06,-533.01 101.06,-554.01 170.06,-554.01 170.06,-533.01 101.06,-533.01\"/>\n<text text-anchor=\"start\" x=\"120.06\" y=\"-539.81\" font-family=\"Times,serif\" font-size=\"14.00\"> Diff </text>\n<polygon fill=\"none\" stroke=\"black\" points=\"101.06,-510.01 101.06,-531.01 134.06,-531.01 134.06,-510.01 101.06,-510.01\"/>\n<text text-anchor=\"start\" x=\"104.06\" y=\"-516.81\" font-family=\"Times,serif\" font-size=\"14.00\">Easy</text>\n<polygon fill=\"none\" stroke=\"black\" points=\"136.06,-510.01 136.06,-531.01 170.06,-531.01 170.06,-510.01 136.06,-510.01\"/>\n<text text-anchor=\"start\" x=\"139.06\" y=\"-516.81\" font-family=\"Times,serif\" font-size=\"14.00\">Hard</text>\n<polygon fill=\"none\" stroke=\"black\" points=\"101.06,-487.01 101.06,-508.01 134.06,-508.01 134.06,-487.01 101.06,-487.01\"/>\n<text text-anchor=\"start\" x=\"105.06\" y=\"-493.81\" font-family=\"Times,serif\" font-size=\"14.00\">0.60</text>\n<polygon fill=\"none\" stroke=\"black\" points=\"136.06,-487.01 136.06,-508.01 170.06,-508.01 170.06,-487.01 136.06,-487.01\"/>\n<text text-anchor=\"start\" x=\"140.56\" y=\"-493.81\" font-family=\"Times,serif\" font-size=\"14.00\">0.40</text>\n<polygon fill=\"none\" stroke=\"black\" points=\"97.56,-484.51 97.56,-557.51 172.56,-557.51 172.56,-484.51 97.56,-484.51\"/>\n</g>\n<!-- Grade -->\n<g id=\"node3\" class=\"node\">\n<title>Grade</title>\n<ellipse fill=\"none\" stroke=\"black\" cx=\"135.06\" cy=\"-321.67\" rx=\"135.11\" ry=\"106.13\"/>\n<polygon fill=\"none\" stroke=\"black\" points=\"51.06,-368.67 51.06,-389.67 220.06,-389.67 220.06,-368.67 51.06,-368.67\"/>\n<text text-anchor=\"start\" x=\"115.06\" y=\"-375.47\" font-family=\"Times,serif\" font-size=\"14.00\"> Grade </text>\n<polygon fill=\"none\" stroke=\"black\" points=\"51.06,-345.67 51.06,-366.67 119.06,-366.67 119.06,-345.67 51.06,-345.67\"/>\n<text text-anchor=\"start\" x=\"83.06\" y=\"-352.47\" font-family=\"Times,serif\" font-size=\"14.00\"> </text>\n<polygon fill=\"none\" stroke=\"black\" points=\"121.06,-345.67 121.06,-366.67 152.06,-366.67 152.06,-345.67 121.06,-345.67\"/>\n<text text-anchor=\"start\" x=\"131.56\" y=\"-352.47\" font-family=\"Times,serif\" font-size=\"14.00\">A</text>\n<polygon fill=\"none\" stroke=\"black\" points=\"154.06,-345.67 154.06,-366.67 185.06,-366.67 185.06,-345.67 154.06,-345.67\"/>\n<text text-anchor=\"start\" x=\"164.56\" y=\"-352.47\" font-family=\"Times,serif\" font-size=\"14.00\">B</text>\n<polygon fill=\"none\" stroke=\"black\" points=\"187.06,-345.67 187.06,-366.67 218.06,-366.67 218.06,-345.67 187.06,-345.67\"/>\n<text text-anchor=\"start\" x=\"197.56\" y=\"-352.47\" font-family=\"Times,serif\" font-size=\"14.00\">C</text>\n<polygon fill=\"none\" stroke=\"black\" points=\"51.06,-322.67 51.06,-343.67 119.06,-343.67 119.06,-322.67 51.06,-322.67\"/>\n<text text-anchor=\"start\" x=\"56.06\" y=\"-329.47\" font-family=\"Times,serif\" font-size=\"14.00\">Low, Easy</text>\n<polygon fill=\"none\" stroke=\"black\" points=\"121.06,-322.67 121.06,-343.67 152.06,-343.67 152.06,-322.67 121.06,-322.67\"/>\n<text text-anchor=\"start\" x=\"124.06\" y=\"-329.47\" font-family=\"Times,serif\" font-size=\"14.00\">0.30</text>\n<polygon fill=\"none\" stroke=\"black\" points=\"154.06,-322.67 154.06,-343.67 185.06,-343.67 185.06,-322.67 154.06,-322.67\"/>\n<text text-anchor=\"start\" x=\"157.06\" y=\"-329.47\" font-family=\"Times,serif\" font-size=\"14.00\">0.40</text>\n<polygon fill=\"none\" stroke=\"black\" points=\"187.06,-322.67 187.06,-343.67 218.06,-343.67 218.06,-322.67 187.06,-322.67\"/>\n<text text-anchor=\"start\" x=\"190.06\" y=\"-329.47\" font-family=\"Times,serif\" font-size=\"14.00\">0.30</text>\n<polygon fill=\"none\" stroke=\"black\" points=\"51.06,-299.67 51.06,-320.67 119.06,-320.67 119.06,-299.67 51.06,-299.67\"/>\n<text text-anchor=\"start\" x=\"55.56\" y=\"-306.47\" font-family=\"Times,serif\" font-size=\"14.00\">Low, Hard</text>\n<polygon fill=\"none\" stroke=\"black\" points=\"121.06,-299.67 121.06,-320.67 152.06,-320.67 152.06,-299.67 121.06,-299.67\"/>\n<text text-anchor=\"start\" x=\"124.06\" y=\"-306.47\" font-family=\"Times,serif\" font-size=\"14.00\">0.05</text>\n<polygon fill=\"none\" stroke=\"black\" points=\"154.06,-299.67 154.06,-320.67 185.06,-320.67 185.06,-299.67 154.06,-299.67\"/>\n<text text-anchor=\"start\" x=\"157.06\" y=\"-306.47\" font-family=\"Times,serif\" font-size=\"14.00\">0.25</text>\n<polygon fill=\"none\" stroke=\"black\" points=\"187.06,-299.67 187.06,-320.67 218.06,-320.67 218.06,-299.67 187.06,-299.67\"/>\n<text text-anchor=\"start\" x=\"190.06\" y=\"-306.47\" font-family=\"Times,serif\" font-size=\"14.00\">0.70</text>\n<polygon fill=\"none\" stroke=\"black\" points=\"51.06,-276.67 51.06,-297.67 119.06,-297.67 119.06,-276.67 51.06,-276.67\"/>\n<text text-anchor=\"start\" x=\"54.56\" y=\"-283.47\" font-family=\"Times,serif\" font-size=\"14.00\">High, Easy</text>\n<polygon fill=\"none\" stroke=\"black\" points=\"121.06,-276.67 121.06,-297.67 152.06,-297.67 152.06,-276.67 121.06,-276.67\"/>\n<text text-anchor=\"start\" x=\"124.06\" y=\"-283.47\" font-family=\"Times,serif\" font-size=\"14.00\">0.90</text>\n<polygon fill=\"none\" stroke=\"black\" points=\"154.06,-276.67 154.06,-297.67 185.06,-297.67 185.06,-276.67 154.06,-276.67\"/>\n<text text-anchor=\"start\" x=\"157.06\" y=\"-283.47\" font-family=\"Times,serif\" font-size=\"14.00\">0.08</text>\n<polygon fill=\"none\" stroke=\"black\" points=\"187.06,-276.67 187.06,-297.67 218.06,-297.67 218.06,-276.67 187.06,-276.67\"/>\n<text text-anchor=\"start\" x=\"190.06\" y=\"-283.47\" font-family=\"Times,serif\" font-size=\"14.00\">0.02</text>\n<polygon fill=\"none\" stroke=\"black\" points=\"51.06,-253.67 51.06,-274.67 119.06,-274.67 119.06,-253.67 51.06,-253.67\"/>\n<text text-anchor=\"start\" x=\"54.06\" y=\"-260.47\" font-family=\"Times,serif\" font-size=\"14.00\">High, Hard</text>\n<polygon fill=\"none\" stroke=\"black\" points=\"121.06,-253.67 121.06,-274.67 152.06,-274.67 152.06,-253.67 121.06,-253.67\"/>\n<text text-anchor=\"start\" x=\"124.06\" y=\"-260.47\" font-family=\"Times,serif\" font-size=\"14.00\">0.50</text>\n<polygon fill=\"none\" stroke=\"black\" points=\"154.06,-253.67 154.06,-274.67 185.06,-274.67 185.06,-253.67 154.06,-253.67\"/>\n<text text-anchor=\"start\" x=\"157.06\" y=\"-260.47\" font-family=\"Times,serif\" font-size=\"14.00\">0.30</text>\n<polygon fill=\"none\" stroke=\"black\" points=\"187.06,-253.67 187.06,-274.67 218.06,-274.67 218.06,-253.67 187.06,-253.67\"/>\n<text text-anchor=\"start\" x=\"190.06\" y=\"-260.47\" font-family=\"Times,serif\" font-size=\"14.00\">0.20</text>\n<polygon fill=\"none\" stroke=\"black\" points=\"47.56,-250.67 47.56,-392.67 222.56,-392.67 222.56,-250.67 47.56,-250.67\"/>\n</g>\n<!-- Diff&#45;&gt;Grade -->\n<g id=\"edge1\" class=\"edge\">\n<title>Diff&#45;&gt;Grade</title>\n<path fill=\"none\" stroke=\"black\" d=\"M135.06,-463.73C135.06,-455.53 135.06,-446.86 135.06,-438\"/>\n<polygon fill=\"black\" stroke=\"black\" points=\"138.56,-437.93 135.06,-427.93 131.56,-437.93 138.56,-437.93\"/>\n</g>\n<!-- Intel -->\n<g id=\"node2\" class=\"node\">\n<title>Intel</title>\n<ellipse fill=\"none\" stroke=\"black\" cx=\"329.06\" cy=\"-521.01\" rx=\"62.87\" ry=\"57.05\"/>\n<polygon fill=\"none\" stroke=\"black\" points=\"296.06,-533.01 296.06,-554.01 363.06,-554.01 363.06,-533.01 296.06,-533.01\"/>\n<text text-anchor=\"start\" x=\"313.06\" y=\"-539.81\" font-family=\"Times,serif\" font-size=\"14.00\"> Intel </text>\n<polygon fill=\"none\" stroke=\"black\" points=\"296.06,-510.01 296.06,-531.01 327.06,-531.01 327.06,-510.01 296.06,-510.01\"/>\n<text text-anchor=\"start\" x=\"299.06\" y=\"-516.81\" font-family=\"Times,serif\" font-size=\"14.00\">Low</text>\n<polygon fill=\"none\" stroke=\"black\" points=\"329.06,-510.01 329.06,-531.01 363.06,-531.01 363.06,-510.01 329.06,-510.01\"/>\n<text text-anchor=\"start\" x=\"332.06\" y=\"-516.81\" font-family=\"Times,serif\" font-size=\"14.00\">High</text>\n<polygon fill=\"none\" stroke=\"black\" points=\"296.06,-487.01 296.06,-508.01 327.06,-508.01 327.06,-487.01 296.06,-487.01\"/>\n<text text-anchor=\"start\" x=\"299.06\" y=\"-493.81\" font-family=\"Times,serif\" font-size=\"14.00\">0.70</text>\n<polygon fill=\"none\" stroke=\"black\" points=\"329.06,-487.01 329.06,-508.01 363.06,-508.01 363.06,-487.01 329.06,-487.01\"/>\n<text text-anchor=\"start\" x=\"333.56\" y=\"-493.81\" font-family=\"Times,serif\" font-size=\"14.00\">0.30</text>\n<polygon fill=\"none\" stroke=\"black\" points=\"292.56,-484.51 292.56,-557.51 365.56,-557.51 365.56,-484.51 292.56,-484.51\"/>\n</g>\n<!-- Intel&#45;&gt;Grade -->\n<g id=\"edge3\" class=\"edge\">\n<title>Intel&#45;&gt;Grade</title>\n<path fill=\"none\" stroke=\"black\" d=\"M287.44,-477.68C268.95,-458.87 246.43,-435.97 224.44,-413.59\"/>\n<polygon fill=\"black\" stroke=\"black\" points=\"226.83,-411.03 217.32,-406.35 221.84,-415.94 226.83,-411.03\"/>\n</g>\n<!-- SAT -->\n<g id=\"node5\" class=\"node\">\n<title>SAT</title>\n<ellipse fill=\"none\" stroke=\"black\" cx=\"379.06\" cy=\"-321.67\" rx=\"90.52\" ry=\"73.58\"/>\n<polygon fill=\"none\" stroke=\"black\" points=\"326.06,-345.67 326.06,-366.67 432.06,-366.67 432.06,-345.67 326.06,-345.67\"/>\n<text text-anchor=\"start\" x=\"363.06\" y=\"-352.47\" font-family=\"Times,serif\" font-size=\"14.00\"> SAT </text>\n<polygon fill=\"none\" stroke=\"black\" points=\"326.06,-322.67 326.06,-343.67 360.06,-343.67 360.06,-322.67 326.06,-322.67\"/>\n<text text-anchor=\"start\" x=\"341.06\" y=\"-329.47\" font-family=\"Times,serif\" font-size=\"14.00\"> </text>\n<polygon fill=\"none\" stroke=\"black\" points=\"362.06,-322.67 362.06,-343.67 393.06,-343.67 393.06,-322.67 362.06,-322.67\"/>\n<text text-anchor=\"start\" x=\"366.56\" y=\"-329.47\" font-family=\"Times,serif\" font-size=\"14.00\">Bad</text>\n<polygon fill=\"none\" stroke=\"black\" points=\"395.06,-322.67 395.06,-343.67 432.06,-343.67 432.06,-322.67 395.06,-322.67\"/>\n<text text-anchor=\"start\" x=\"398.06\" y=\"-329.47\" font-family=\"Times,serif\" font-size=\"14.00\">Good</text>\n<polygon fill=\"none\" stroke=\"black\" points=\"326.06,-299.67 326.06,-320.67 360.06,-320.67 360.06,-299.67 326.06,-299.67\"/>\n<text text-anchor=\"start\" x=\"330.56\" y=\"-306.47\" font-family=\"Times,serif\" font-size=\"14.00\">Low</text>\n<polygon fill=\"none\" stroke=\"black\" points=\"362.06,-299.67 362.06,-320.67 393.06,-320.67 393.06,-299.67 362.06,-299.67\"/>\n<text text-anchor=\"start\" x=\"365.06\" y=\"-306.47\" font-family=\"Times,serif\" font-size=\"14.00\">0.95</text>\n<polygon fill=\"none\" stroke=\"black\" points=\"395.06,-299.67 395.06,-320.67 432.06,-320.67 432.06,-299.67 395.06,-299.67\"/>\n<text text-anchor=\"start\" x=\"401.06\" y=\"-306.47\" font-family=\"Times,serif\" font-size=\"14.00\">0.05</text>\n<polygon fill=\"none\" stroke=\"black\" points=\"326.06,-276.67 326.06,-297.67 360.06,-297.67 360.06,-276.67 326.06,-276.67\"/>\n<text text-anchor=\"start\" x=\"329.06\" y=\"-283.47\" font-family=\"Times,serif\" font-size=\"14.00\">High</text>\n<polygon fill=\"none\" stroke=\"black\" points=\"362.06,-276.67 362.06,-297.67 393.06,-297.67 393.06,-276.67 362.06,-276.67\"/>\n<text text-anchor=\"start\" x=\"365.06\" y=\"-283.47\" font-family=\"Times,serif\" font-size=\"14.00\">0.20</text>\n<polygon fill=\"none\" stroke=\"black\" points=\"395.06,-276.67 395.06,-297.67 432.06,-297.67 432.06,-276.67 395.06,-276.67\"/>\n<text text-anchor=\"start\" x=\"401.06\" y=\"-283.47\" font-family=\"Times,serif\" font-size=\"14.00\">0.80</text>\n<polygon fill=\"none\" stroke=\"black\" points=\"323.06,-273.67 323.06,-369.67 435.06,-369.67 435.06,-273.67 323.06,-273.67\"/>\n</g>\n<!-- Intel&#45;&gt;SAT -->\n<g id=\"edge4\" class=\"edge\">\n<title>Intel&#45;&gt;SAT</title>\n<path fill=\"none\" stroke=\"black\" d=\"M342.99,-465.04C347.8,-446.04 353.3,-424.33 358.53,-403.68\"/>\n<polygon fill=\"black\" stroke=\"black\" points=\"361.93,-404.52 360.99,-393.97 355.14,-402.8 361.93,-404.52\"/>\n</g>\n<!-- Letter -->\n<g id=\"node4\" class=\"node\">\n<title>Letter</title>\n<ellipse fill=\"none\" stroke=\"black\" cx=\"135.06\" cy=\"-89.8\" rx=\"79.39\" ry=\"89.61\"/>\n<polygon fill=\"none\" stroke=\"black\" points=\"90.06,-124.8 90.06,-145.8 180.06,-145.8 180.06,-124.8 90.06,-124.8\"/>\n<text text-anchor=\"start\" x=\"115.06\" y=\"-131.6\" font-family=\"Times,serif\" font-size=\"14.00\"> Letter </text>\n<polygon fill=\"none\" stroke=\"black\" points=\"90.06,-101.8 90.06,-122.8 106.06,-122.8 106.06,-101.8 90.06,-101.8\"/>\n<text text-anchor=\"start\" x=\"96.06\" y=\"-108.6\" font-family=\"Times,serif\" font-size=\"14.00\"> </text>\n<polygon fill=\"none\" stroke=\"black\" points=\"108.06,-101.8 108.06,-122.8 139.06,-122.8 139.06,-101.8 108.06,-101.8\"/>\n<text text-anchor=\"start\" x=\"112.56\" y=\"-108.6\" font-family=\"Times,serif\" font-size=\"14.00\">Bad</text>\n<polygon fill=\"none\" stroke=\"black\" points=\"141.06,-101.8 141.06,-122.8 178.06,-122.8 178.06,-101.8 141.06,-101.8\"/>\n<text text-anchor=\"start\" x=\"144.06\" y=\"-108.6\" font-family=\"Times,serif\" font-size=\"14.00\">Good</text>\n<polygon fill=\"none\" stroke=\"black\" points=\"90.06,-78.8 90.06,-99.8 106.06,-99.8 106.06,-78.8 90.06,-78.8\"/>\n<text text-anchor=\"start\" x=\"93.06\" y=\"-85.6\" font-family=\"Times,serif\" font-size=\"14.00\">A</text>\n<polygon fill=\"none\" stroke=\"black\" points=\"108.06,-78.8 108.06,-99.8 139.06,-99.8 139.06,-78.8 108.06,-78.8\"/>\n<text text-anchor=\"start\" x=\"111.06\" y=\"-85.6\" font-family=\"Times,serif\" font-size=\"14.00\">0.10</text>\n<polygon fill=\"none\" stroke=\"black\" points=\"141.06,-78.8 141.06,-99.8 178.06,-99.8 178.06,-78.8 141.06,-78.8\"/>\n<text text-anchor=\"start\" x=\"147.06\" y=\"-85.6\" font-family=\"Times,serif\" font-size=\"14.00\">0.90</text>\n<polygon fill=\"none\" stroke=\"black\" points=\"90.06,-55.8 90.06,-76.8 106.06,-76.8 106.06,-55.8 90.06,-55.8\"/>\n<text text-anchor=\"start\" x=\"93.06\" y=\"-62.6\" font-family=\"Times,serif\" font-size=\"14.00\">B</text>\n<polygon fill=\"none\" stroke=\"black\" points=\"108.06,-55.8 108.06,-76.8 139.06,-76.8 139.06,-55.8 108.06,-55.8\"/>\n<text text-anchor=\"start\" x=\"111.06\" y=\"-62.6\" font-family=\"Times,serif\" font-size=\"14.00\">0.40</text>\n<polygon fill=\"none\" stroke=\"black\" points=\"141.06,-55.8 141.06,-76.8 178.06,-76.8 178.06,-55.8 141.06,-55.8\"/>\n<text text-anchor=\"start\" x=\"147.06\" y=\"-62.6\" font-family=\"Times,serif\" font-size=\"14.00\">0.60</text>\n<polygon fill=\"none\" stroke=\"black\" points=\"90.06,-32.8 90.06,-53.8 106.06,-53.8 106.06,-32.8 90.06,-32.8\"/>\n<text text-anchor=\"start\" x=\"93.06\" y=\"-39.6\" font-family=\"Times,serif\" font-size=\"14.00\">C</text>\n<polygon fill=\"none\" stroke=\"black\" points=\"108.06,-32.8 108.06,-53.8 139.06,-53.8 139.06,-32.8 108.06,-32.8\"/>\n<text text-anchor=\"start\" x=\"111.06\" y=\"-39.6\" font-family=\"Times,serif\" font-size=\"14.00\">0.99</text>\n<polygon fill=\"none\" stroke=\"black\" points=\"141.06,-32.8 141.06,-53.8 178.06,-53.8 178.06,-32.8 141.06,-32.8\"/>\n<text text-anchor=\"start\" x=\"147.06\" y=\"-39.6\" font-family=\"Times,serif\" font-size=\"14.00\">0.01</text>\n<polygon fill=\"none\" stroke=\"black\" points=\"87.06,-30.3 87.06,-149.3 183.06,-149.3 183.06,-30.3 87.06,-30.3\"/>\n</g>\n<!-- Grade&#45;&gt;Letter -->\n<g id=\"edge2\" class=\"edge\">\n<title>Grade&#45;&gt;Letter</title>\n<path fill=\"none\" stroke=\"black\" d=\"M135.06,-215.49C135.06,-207 135.06,-198.44 135.06,-190\"/>\n<polygon fill=\"black\" stroke=\"black\" points=\"138.56,-189.77 135.06,-179.77 131.56,-189.77 138.56,-189.77\"/>\n</g>\n</g>\n</svg>\n",
      "text/plain": [
       "<graphviz.graphs.Digraph at 0x160b99250>"
      ]
     },
     "metadata": {},
     "output_type": "display_data"
    }
   ],
   "source": [
    "# CPT\n",
    "dot = pgm.visualize_model(model)\n",
    "display(dot)"
   ]
  },
  {
   "cell_type": "code",
   "execution_count": 41,
   "metadata": {},
   "outputs": [
    {
     "data": {
      "application/json": {
       "ascii": false,
       "bar_format": null,
       "colour": null,
       "elapsed": 0.011970043182373047,
       "initial": 0,
       "n": 0,
       "ncols": null,
       "nrows": null,
       "postfix": null,
       "prefix": "",
       "rate": null,
       "total": 1,
       "unit": "it",
       "unit_divisor": 1000,
       "unit_scale": false
      },
      "application/vnd.jupyter.widget-view+json": {
       "model_id": "38e6a87dd5f34ea0b70c8c4921366558",
       "version_major": 2,
       "version_minor": 0
      },
      "text/plain": [
       "  0%|          | 0/1 [00:00<?, ?it/s]"
      ]
     },
     "metadata": {},
     "output_type": "display_data"
    },
    {
     "data": {
      "application/json": {
       "ascii": false,
       "bar_format": null,
       "colour": null,
       "elapsed": 0.013422966003417969,
       "initial": 0,
       "n": 0,
       "ncols": null,
       "nrows": null,
       "postfix": null,
       "prefix": "",
       "rate": null,
       "total": 1,
       "unit": "it",
       "unit_divisor": 1000,
       "unit_scale": false
      },
      "application/vnd.jupyter.widget-view+json": {
       "model_id": "3e6227f49c634be2b8b758b376922807",
       "version_major": 2,
       "version_minor": 0
      },
      "text/plain": [
       "  0%|          | 0/1 [00:00<?, ?it/s]"
      ]
     },
     "metadata": {},
     "output_type": "display_data"
    },
    {
     "data": {
      "application/json": {
       "ascii": false,
       "bar_format": null,
       "colour": null,
       "elapsed": 0.01334381103515625,
       "initial": 0,
       "n": 0,
       "ncols": null,
       "nrows": null,
       "postfix": null,
       "prefix": "",
       "rate": null,
       "total": 1,
       "unit": "it",
       "unit_divisor": 1000,
       "unit_scale": false
      },
      "application/vnd.jupyter.widget-view+json": {
       "model_id": "67c9797988df442fb08e4bc5a56b564c",
       "version_major": 2,
       "version_minor": 0
      },
      "text/plain": [
       "  0%|          | 0/1 [00:00<?, ?it/s]"
      ]
     },
     "metadata": {},
     "output_type": "display_data"
    },
    {
     "data": {
      "application/json": {
       "ascii": false,
       "bar_format": null,
       "colour": null,
       "elapsed": 0.01353907585144043,
       "initial": 0,
       "n": 0,
       "ncols": null,
       "nrows": null,
       "postfix": null,
       "prefix": "",
       "rate": null,
       "total": 1,
       "unit": "it",
       "unit_divisor": 1000,
       "unit_scale": false
      },
      "application/vnd.jupyter.widget-view+json": {
       "model_id": "e5528acdd3b24abdbc4fbe6dec0a87fc",
       "version_major": 2,
       "version_minor": 0
      },
      "text/plain": [
       "  0%|          | 0/1 [00:00<?, ?it/s]"
      ]
     },
     "metadata": {},
     "output_type": "display_data"
    },
    {
     "data": {
      "application/json": {
       "ascii": false,
       "bar_format": null,
       "colour": null,
       "elapsed": 0.013892173767089844,
       "initial": 0,
       "n": 0,
       "ncols": null,
       "nrows": null,
       "postfix": null,
       "prefix": "",
       "rate": null,
       "total": 0,
       "unit": "it",
       "unit_divisor": 1000,
       "unit_scale": false
      },
      "application/vnd.jupyter.widget-view+json": {
       "model_id": "0cb90ba4169d43faae749acdc6de1a51",
       "version_major": 2,
       "version_minor": 0
      },
      "text/plain": [
       "0it [00:00, ?it/s]"
      ]
     },
     "metadata": {},
     "output_type": "display_data"
    },
    {
     "data": {
      "application/json": {
       "ascii": false,
       "bar_format": null,
       "colour": null,
       "elapsed": 0.015166997909545898,
       "initial": 0,
       "n": 0,
       "ncols": null,
       "nrows": null,
       "postfix": null,
       "prefix": "",
       "rate": null,
       "total": 0,
       "unit": "it",
       "unit_divisor": 1000,
       "unit_scale": false
      },
      "application/vnd.jupyter.widget-view+json": {
       "model_id": "54d77367aab2447587f9c8612c2144ad",
       "version_major": 2,
       "version_minor": 0
      },
      "text/plain": [
       "0it [00:00, ?it/s]"
      ]
     },
     "metadata": {},
     "output_type": "display_data"
    },
    {
     "data": {
      "application/json": {
       "ascii": false,
       "bar_format": null,
       "colour": null,
       "elapsed": 0.013963937759399414,
       "initial": 0,
       "n": 0,
       "ncols": null,
       "nrows": null,
       "postfix": null,
       "prefix": "",
       "rate": null,
       "total": 2,
       "unit": "it",
       "unit_divisor": 1000,
       "unit_scale": false
      },
      "application/vnd.jupyter.widget-view+json": {
       "model_id": "92d31ffe58e8438b943b891294dabf0a",
       "version_major": 2,
       "version_minor": 0
      },
      "text/plain": [
       "  0%|          | 0/2 [00:00<?, ?it/s]"
      ]
     },
     "metadata": {},
     "output_type": "display_data"
    },
    {
     "data": {
      "application/json": {
       "ascii": false,
       "bar_format": null,
       "colour": null,
       "elapsed": 0.015613079071044922,
       "initial": 0,
       "n": 0,
       "ncols": null,
       "nrows": null,
       "postfix": null,
       "prefix": "",
       "rate": null,
       "total": 2,
       "unit": "it",
       "unit_divisor": 1000,
       "unit_scale": false
      },
      "application/vnd.jupyter.widget-view+json": {
       "model_id": "08d8bc33c8be49b0968a4b601f716461",
       "version_major": 2,
       "version_minor": 0
      },
      "text/plain": [
       "  0%|          | 0/2 [00:00<?, ?it/s]"
      ]
     },
     "metadata": {},
     "output_type": "display_data"
    },
    {
     "data": {
      "image/svg+xml": "<?xml version=\"1.0\" encoding=\"UTF-8\" standalone=\"no\"?>\n<!DOCTYPE svg PUBLIC \"-//W3C//DTD SVG 1.1//EN\"\n \"http://www.w3.org/Graphics/SVG/1.1/DTD/svg11.dtd\">\n<!-- Generated by graphviz version 6.0.1 (20220911.1526)\n -->\n<!-- Title: pgm Pages: 1 -->\n<svg width=\"294pt\" height=\"424pt\"\n viewBox=\"0.00 0.00 294.35 423.65\" xmlns=\"http://www.w3.org/2000/svg\" xmlns:xlink=\"http://www.w3.org/1999/xlink\">\n<g id=\"graph0\" class=\"graph\" transform=\"scale(1 1) rotate(0) translate(4 419.65)\">\n<title>pgm</title>\n<polygon fill=\"white\" stroke=\"none\" points=\"-4,4 -4,-419.65 290.35,-419.65 290.35,4 -4,4\"/>\n<!-- Diff -->\n<g id=\"node1\" class=\"node\">\n<title>Diff</title>\n<ellipse fill=\"none\" stroke=\"black\" cx=\"69.3\" cy=\"-358.38\" rx=\"64.19\" ry=\"57.05\"/>\n<polygon fill=\"none\" stroke=\"black\" points=\"35.3,-370.38 35.3,-391.38 104.3,-391.38 104.3,-370.38 35.3,-370.38\"/>\n<text text-anchor=\"start\" x=\"54.3\" y=\"-377.18\" font-family=\"Times,serif\" font-size=\"14.00\"> Diff </text>\n<polygon fill=\"none\" stroke=\"black\" points=\"35.3,-347.38 35.3,-368.38 68.3,-368.38 68.3,-347.38 35.3,-347.38\"/>\n<text text-anchor=\"start\" x=\"38.3\" y=\"-354.18\" font-family=\"Times,serif\" font-size=\"14.00\">Easy</text>\n<polygon fill=\"none\" stroke=\"black\" points=\"70.3,-347.38 70.3,-368.38 104.3,-368.38 104.3,-347.38 70.3,-347.38\"/>\n<text text-anchor=\"start\" x=\"73.3\" y=\"-354.18\" font-family=\"Times,serif\" font-size=\"14.00\">Hard</text>\n<polygon fill=\"none\" stroke=\"black\" points=\"35.3,-324.38 35.3,-345.38 68.3,-345.38 68.3,-324.38 35.3,-324.38\"/>\n<text text-anchor=\"start\" x=\"39.3\" y=\"-331.18\" font-family=\"Times,serif\" font-size=\"14.00\">0.37</text>\n<polygon fill=\"none\" stroke=\"black\" points=\"70.3,-324.38 70.3,-345.38 104.3,-345.38 104.3,-324.38 70.3,-324.38\"/>\n<text text-anchor=\"start\" x=\"74.8\" y=\"-331.18\" font-family=\"Times,serif\" font-size=\"14.00\">0.63</text>\n<polygon fill=\"none\" stroke=\"black\" points=\"31.8,-321.88 31.8,-394.88 106.8,-394.88 106.8,-321.88 31.8,-321.88\"/>\n</g>\n<!-- Grade -->\n<g id=\"node2\" class=\"node\">\n<title>Grade</title>\n<ellipse fill=\"none\" stroke=\"black\" cx=\"69.3\" cy=\"-207.83\" rx=\"69.09\" ry=\"57.05\"/>\n<polygon fill=\"#bebebe\" stroke=\"none\" points=\"31.3,-219.83 31.3,-240.83 107.3,-240.83 107.3,-219.83 31.3,-219.83\"/>\n<polygon fill=\"none\" stroke=\"black\" points=\"31.3,-219.83 31.3,-240.83 107.3,-240.83 107.3,-219.83 31.3,-219.83\"/>\n<text text-anchor=\"start\" x=\"48.8\" y=\"-226.63\" font-family=\"Times,serif\" font-size=\"14.00\"> Grade </text>\n<polygon fill=\"none\" stroke=\"black\" points=\"31.3,-196.83 31.3,-217.83 55.3,-217.83 55.3,-196.83 31.3,-196.83\"/>\n<text text-anchor=\"start\" x=\"38.3\" y=\"-203.63\" font-family=\"Times,serif\" font-size=\"14.00\">A</text>\n<polygon fill=\"none\" stroke=\"black\" points=\"57.3,-196.83 57.3,-217.83 81.3,-217.83 81.3,-196.83 57.3,-196.83\"/>\n<text text-anchor=\"start\" x=\"64.3\" y=\"-203.63\" font-family=\"Times,serif\" font-size=\"14.00\">B</text>\n<polygon fill=\"none\" stroke=\"black\" points=\"83.3,-196.83 83.3,-217.83 107.3,-217.83 107.3,-196.83 83.3,-196.83\"/>\n<text text-anchor=\"start\" x=\"90.3\" y=\"-203.63\" font-family=\"Times,serif\" font-size=\"14.00\">C</text>\n<polygon fill=\"none\" stroke=\"black\" points=\"31.3,-173.83 31.3,-194.83 55.3,-194.83 55.3,-173.83 31.3,-173.83\"/>\n<text text-anchor=\"start\" x=\"34.3\" y=\"-180.63\" font-family=\"Times,serif\" font-size=\"14.00\">0.0</text>\n<polygon fill=\"none\" stroke=\"black\" points=\"57.3,-173.83 57.3,-194.83 81.3,-194.83 81.3,-173.83 57.3,-173.83\"/>\n<text text-anchor=\"start\" x=\"60.3\" y=\"-180.63\" font-family=\"Times,serif\" font-size=\"14.00\">0.0</text>\n<polygon fill=\"none\" stroke=\"black\" points=\"83.3,-173.83 83.3,-194.83 107.3,-194.83 107.3,-173.83 83.3,-173.83\"/>\n<text text-anchor=\"start\" x=\"86.3\" y=\"-180.63\" font-family=\"Times,serif\" font-size=\"14.00\">1.0</text>\n<polygon fill=\"none\" stroke=\"black\" points=\"28.3,-171.33 28.3,-244.33 110.3,-244.33 110.3,-171.33 28.3,-171.33\"/>\n</g>\n<!-- Diff&#45;&gt;Grade -->\n<g id=\"edge1\" class=\"edge\">\n<title>Diff&#45;&gt;Grade</title>\n<path fill=\"none\" stroke=\"black\" d=\"M69.3,-300.79C69.3,-292.52 69.3,-283.93 69.3,-275.47\"/>\n<polygon fill=\"black\" stroke=\"black\" points=\"72.8,-275.25 69.3,-265.25 65.8,-275.25 72.8,-275.25\"/>\n</g>\n<!-- Letter -->\n<g id=\"node4\" class=\"node\">\n<title>Letter</title>\n<ellipse fill=\"none\" stroke=\"black\" cx=\"69.3\" cy=\"-57.28\" rx=\"65.11\" ry=\"57.05\"/>\n<polygon fill=\"none\" stroke=\"black\" points=\"34.3,-69.28 34.3,-90.28 104.3,-90.28 104.3,-69.28 34.3,-69.28\"/>\n<text text-anchor=\"start\" x=\"49.3\" y=\"-76.08\" font-family=\"Times,serif\" font-size=\"14.00\"> Letter </text>\n<polygon fill=\"none\" stroke=\"black\" points=\"34.3,-46.28 34.3,-67.28 65.3,-67.28 65.3,-46.28 34.3,-46.28\"/>\n<text text-anchor=\"start\" x=\"38.8\" y=\"-53.08\" font-family=\"Times,serif\" font-size=\"14.00\">Bad</text>\n<polygon fill=\"none\" stroke=\"black\" points=\"67.3,-46.28 67.3,-67.28 104.3,-67.28 104.3,-46.28 67.3,-46.28\"/>\n<text text-anchor=\"start\" x=\"70.3\" y=\"-53.08\" font-family=\"Times,serif\" font-size=\"14.00\">Good</text>\n<polygon fill=\"none\" stroke=\"black\" points=\"34.3,-23.28 34.3,-44.28 65.3,-44.28 65.3,-23.28 34.3,-23.28\"/>\n<text text-anchor=\"start\" x=\"37.3\" y=\"-30.08\" font-family=\"Times,serif\" font-size=\"14.00\">0.99</text>\n<polygon fill=\"none\" stroke=\"black\" points=\"67.3,-23.28 67.3,-44.28 104.3,-44.28 104.3,-23.28 67.3,-23.28\"/>\n<text text-anchor=\"start\" x=\"73.3\" y=\"-30.08\" font-family=\"Times,serif\" font-size=\"14.00\">0.01</text>\n<polygon fill=\"none\" stroke=\"black\" points=\"31.3,-20.78 31.3,-93.78 107.3,-93.78 107.3,-20.78 31.3,-20.78\"/>\n</g>\n<!-- Grade&#45;&gt;Letter -->\n<g id=\"edge2\" class=\"edge\">\n<title>Grade&#45;&gt;Letter</title>\n<path fill=\"none\" stroke=\"black\" d=\"M69.3,-150.24C69.3,-141.96 69.3,-133.38 69.3,-124.92\"/>\n<polygon fill=\"black\" stroke=\"black\" points=\"72.8,-124.7 69.3,-114.7 65.8,-124.7 72.8,-124.7\"/>\n</g>\n<!-- Intel -->\n<g id=\"node3\" class=\"node\">\n<title>Intel</title>\n<ellipse fill=\"none\" stroke=\"black\" cx=\"217.3\" cy=\"-358.38\" rx=\"62.87\" ry=\"57.05\"/>\n<polygon fill=\"none\" stroke=\"black\" points=\"184.3,-370.38 184.3,-391.38 251.3,-391.38 251.3,-370.38 184.3,-370.38\"/>\n<text text-anchor=\"start\" x=\"201.3\" y=\"-377.18\" font-family=\"Times,serif\" font-size=\"14.00\"> Intel </text>\n<polygon fill=\"none\" stroke=\"black\" points=\"184.3,-347.38 184.3,-368.38 215.3,-368.38 215.3,-347.38 184.3,-347.38\"/>\n<text text-anchor=\"start\" x=\"187.3\" y=\"-354.18\" font-family=\"Times,serif\" font-size=\"14.00\">Low</text>\n<polygon fill=\"none\" stroke=\"black\" points=\"217.3,-347.38 217.3,-368.38 251.3,-368.38 251.3,-347.38 217.3,-347.38\"/>\n<text text-anchor=\"start\" x=\"220.3\" y=\"-354.18\" font-family=\"Times,serif\" font-size=\"14.00\">High</text>\n<polygon fill=\"none\" stroke=\"black\" points=\"184.3,-324.38 184.3,-345.38 215.3,-345.38 215.3,-324.38 184.3,-324.38\"/>\n<text text-anchor=\"start\" x=\"187.3\" y=\"-331.18\" font-family=\"Times,serif\" font-size=\"14.00\">0.92</text>\n<polygon fill=\"none\" stroke=\"black\" points=\"217.3,-324.38 217.3,-345.38 251.3,-345.38 251.3,-324.38 217.3,-324.38\"/>\n<text text-anchor=\"start\" x=\"221.8\" y=\"-331.18\" font-family=\"Times,serif\" font-size=\"14.00\">0.08</text>\n<polygon fill=\"none\" stroke=\"black\" points=\"180.8,-321.88 180.8,-394.88 253.8,-394.88 253.8,-321.88 180.8,-321.88\"/>\n</g>\n<!-- Intel&#45;&gt;Grade -->\n<g id=\"edge3\" class=\"edge\">\n<title>Intel&#45;&gt;Grade</title>\n<path fill=\"none\" stroke=\"black\" d=\"M175.28,-315.21C158.23,-298.09 138.38,-278.17 120.49,-260.21\"/>\n<polygon fill=\"black\" stroke=\"black\" points=\"122.5,-257.27 112.96,-252.66 117.54,-262.21 122.5,-257.27\"/>\n</g>\n<!-- SAT -->\n<g id=\"node5\" class=\"node\">\n<title>SAT</title>\n<ellipse fill=\"none\" stroke=\"black\" cx=\"221.3\" cy=\"-207.83\" rx=\"65.11\" ry=\"57.05\"/>\n<polygon fill=\"none\" stroke=\"black\" points=\"186.3,-219.83 186.3,-240.83 256.3,-240.83 256.3,-219.83 186.3,-219.83\"/>\n<text text-anchor=\"start\" x=\"205.3\" y=\"-226.63\" font-family=\"Times,serif\" font-size=\"14.00\"> SAT </text>\n<polygon fill=\"none\" stroke=\"black\" points=\"186.3,-196.83 186.3,-217.83 217.3,-217.83 217.3,-196.83 186.3,-196.83\"/>\n<text text-anchor=\"start\" x=\"190.8\" y=\"-203.63\" font-family=\"Times,serif\" font-size=\"14.00\">Bad</text>\n<polygon fill=\"none\" stroke=\"black\" points=\"219.3,-196.83 219.3,-217.83 256.3,-217.83 256.3,-196.83 219.3,-196.83\"/>\n<text text-anchor=\"start\" x=\"222.3\" y=\"-203.63\" font-family=\"Times,serif\" font-size=\"14.00\">Good</text>\n<polygon fill=\"none\" stroke=\"black\" points=\"186.3,-173.83 186.3,-194.83 217.3,-194.83 217.3,-173.83 186.3,-173.83\"/>\n<text text-anchor=\"start\" x=\"189.3\" y=\"-180.63\" font-family=\"Times,serif\" font-size=\"14.00\">0.89</text>\n<polygon fill=\"none\" stroke=\"black\" points=\"219.3,-173.83 219.3,-194.83 256.3,-194.83 256.3,-173.83 219.3,-173.83\"/>\n<text text-anchor=\"start\" x=\"225.3\" y=\"-180.63\" font-family=\"Times,serif\" font-size=\"14.00\">0.11</text>\n<polygon fill=\"none\" stroke=\"black\" points=\"183.3,-171.33 183.3,-244.33 259.3,-244.33 259.3,-171.33 183.3,-171.33\"/>\n</g>\n<!-- Intel&#45;&gt;SAT -->\n<g id=\"edge4\" class=\"edge\">\n<title>Intel&#45;&gt;SAT</title>\n<path fill=\"none\" stroke=\"black\" d=\"M218.82,-300.79C219.04,-292.52 219.27,-283.93 219.5,-275.47\"/>\n<polygon fill=\"black\" stroke=\"black\" points=\"223.01,-275.34 219.78,-265.25 216.01,-275.16 223.01,-275.34\"/>\n</g>\n</g>\n</svg>\n",
      "text/plain": [
       "<graphviz.graphs.Digraph at 0x162190d00>"
      ]
     },
     "metadata": {},
     "output_type": "display_data"
    }
   ],
   "source": [
    "# marginal distribution\n",
    "evidence = {'Grade' : 'C'}\n",
    "marginals = pgm.get_marginals(model, evidence)\n",
    "dot = pgm.visualize_marginals(model, evidence, marginals)\n",
    "display(dot)"
   ]
  },
  {
   "cell_type": "code",
   "execution_count": null,
   "metadata": {},
   "outputs": [],
   "source": []
  }
 ],
 "metadata": {
  "kernelspec": {
   "display_name": "Python 3.8.13 ('torch')",
   "language": "python",
   "name": "python3"
  },
  "language_info": {
   "codemirror_mode": {
    "name": "ipython",
    "version": 3
   },
   "file_extension": ".py",
   "mimetype": "text/x-python",
   "name": "python",
   "nbconvert_exporter": "python",
   "pygments_lexer": "ipython3",
   "version": "3.8.13"
  },
  "orig_nbformat": 4,
  "vscode": {
   "interpreter": {
    "hash": "c2819cb95bedbdbf0235ea4f18636776a6258e25e4398420083407874651edca"
   }
  }
 },
 "nbformat": 4,
 "nbformat_minor": 2
}
