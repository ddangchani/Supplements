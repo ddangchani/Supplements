{
 "cells": [
  {
   "cell_type": "code",
   "execution_count": 1,
   "metadata": {},
   "outputs": [],
   "source": [
    "import numpy as np\n",
    "import matplotlib.pyplot as plt\n",
    "from scipy.stats import multivariate_normal"
   ]
  },
  {
   "cell_type": "code",
   "execution_count": 2,
   "metadata": {},
   "outputs": [
    {
     "data": {
      "image/png": "[encoded data removed]",
      "text/plain": [
       "<Figure size 360x360 with 1 Axes>"
      ]
     },
     "metadata": {
      "needs_background": "light"
     },
     "output_type": "display_data"
    }
   ],
   "source": [
    "# Generate data\n",
    "np.random.seed(4)\n",
    "N = 4\n",
    "dim = 2\n",
    "X1 = np.random.normal(-1, 1, (N, dim))\n",
    "X2 = np.random.normal(1, 1, (N, dim))\n",
    "X = np.concatenate((X1, X2), axis=0)\n",
    "y = np.array([1, 1, 1, 1, -1, -1, -1, -1])\n",
    "\n",
    "# Plot data\n",
    "plt.figure(figsize=(5, 5))\n",
    "plt.plot(X[y == 1, 0], X[y == 1, 1], 'bo', label='class 1')\n",
    "plt.plot(X[y == -1, 0], X[y == -1, 1], 'rx', label='class -1')\n",
    "plt.xlim([-3, 3])\n",
    "plt.ylim([-3, 3])\n",
    "plt.xlabel('x1')\n",
    "plt.ylabel('x2')\n",
    "plt.legend()\n",
    "plt.show()"
   ]
  },
  {
   "cell_type": "code",
   "execution_count": 25,
   "metadata": {},
   "outputs": [],
   "source": [
    "# Binary Laplace Gaussian Process Classification\n",
    "\n",
    "# Define kernel function (RBF)\n",
    "def kernel(x1, x2):\n",
    "    return np.exp(-np.sum((x1 - x2)**2))"
   ]
  },
  {
   "cell_type": "code",
   "execution_count": 26,
   "metadata": {},
   "outputs": [],
   "source": [
    "# covariance matrix\n",
    "K = np.array([[kernel(X[i], X[j]) for j in range(2*N)] for i in range(2*N)])\n",
    "\n",
    "# logistic Likelihood\n",
    "def loglik(y, f):\n",
    "    return np.sum(np.log(1 + np.exp(-y*f)))"
   ]
  },
  {
   "cell_type": "code",
   "execution_count": 72,
   "metadata": {},
   "outputs": [],
   "source": [
    "# Laplace approximation\n",
    "from scipy.integrate import quad\n",
    "\n",
    "def laplace_approximation(y, K, X, x_new=None, max_iter=100):\n",
    "    N = len(y)\n",
    "    f = np.zeros(N)\n",
    "    for i in range(max_iter):\n",
    "        pi = np.exp(f) / (1 + np.exp(f))\n",
    "        W = np.diag(pi * (1 - pi))\n",
    "        W_sqrt = np.sqrt(W)\n",
    "        L = np.linalg.cholesky(np.eye(N) + W_sqrt.dot(K).dot(W_sqrt)) # Cholesky decomposition\n",
    "        t = (y + np.ones(N)) / 2 - pi\n",
    "        b = W.dot(f) + t\n",
    "        a = b - W_sqrt.dot(np.linalg.solve(L.T, np.linalg.solve(L, W_sqrt.dot(K).dot(b))))\n",
    "        f = K.dot(a)\n",
    "\n",
    "    pi = np.exp(f) / (1 + np.exp(f))\n",
    "    W = np.diag(pi * (1 - pi))\n",
    "    W_sqrt = np.sqrt(W)\n",
    "    L = np.linalg.cholesky(np.eye(N) + W_sqrt.dot(K).dot(W_sqrt))\n",
    "    t = (y + np.ones(N)) / 2 - pi\n",
    "    b = W.dot(f) + t\n",
    "    a = b - W_sqrt.dot(np.linalg.solve(L.T, np.linalg.solve(L, W_sqrt.dot(K).dot(b))))\n",
    "\n",
    "    # approximate marginal log likelihood\n",
    "    def q(y, X):\n",
    "        return -0.5 * a.T.dot(f) + loglik(y, f) - np.sum(np.log(np.diag(L)))\n",
    "\n",
    "    if x_new is None:\n",
    "        return f, q, pi\n",
    "    \n",
    "    else: \n",
    "        # predictive mean\n",
    "        k_new = np.array([kernel(x_new, X[i]) for i in range(len(X))])\n",
    "        f_new = k_new.dot(t)\n",
    "        # predictive variance\n",
    "        v = np.linalg.solve(L, W_sqrt.dot(k_new))\n",
    "        v_new = np.array(kernel(x_new, x_new)) - v.dot(v)\n",
    "        # predictive class probability\n",
    "        def integrand(z):\n",
    "            return 1 / (1 + np.exp(-z)) * multivariate_normal(mean = f_new, cov = v_new).pdf(z)\n",
    "        pi_new = quad(integrand, -100, 100)[0]\n",
    "\n",
    "        return f_new, pi_new"
   ]
  },
  {
   "cell_type": "code",
   "execution_count": 73,
   "metadata": {},
   "outputs": [
    {
     "name": "stdout",
     "output_type": "stream",
     "text": [
      "f = [ 0.63518684  0.71196897  0.40703099  0.80890706 -0.51268413 -0.72487512\n",
      " -0.67468816 -0.42943816]\n",
      "pi = [0.65366463 0.67083608 0.60037575 0.69187656 0.37456451 0.32632035\n",
      " 0.33744788 0.3942605 ]\n"
     ]
    }
   ],
   "source": [
    "# Result\n",
    "f, q, pi = laplace_approximation(y, K, X)\n",
    "print('f =', f)\n",
    "print('pi =', pi)"
   ]
  },
  {
   "cell_type": "code",
   "execution_count": 81,
   "metadata": {},
   "outputs": [
    {
     "name": "stderr",
     "output_type": "stream",
     "text": [
      "100%|██████████| 10000/10000 [04:46<00:00, 34.91it/s]\n"
     ]
    }
   ],
   "source": [
    "# predictive distribution\n",
    "from tqdm import tqdm\n",
    "\n",
    "x1 = np.linspace(-3, 3, 100)\n",
    "x2 = np.linspace(-3, 3, 100)\n",
    "X1, X2 = np.meshgrid(x1, x2)\n",
    "X_new = np.array([X1, X2]).reshape(2, -1).T\n",
    "pis = np.zeros(len(X_new))\n",
    "for i in tqdm(range(len(X_new))):\n",
    "    f_new, pi_new = laplace_approximation(y, K, X, x_new = X_new[i])\n",
    "    pis[i] = pi_new"
   ]
  },
  {
   "cell_type": "code",
   "execution_count": 94,
   "metadata": {},
   "outputs": [
    {
     "data": {
      "image/png": "[encoded data removed]",
      "text/plain": [
       "<Figure size 360x360 with 2 Axes>"
      ]
     },
     "metadata": {
      "needs_background": "light"
     },
     "output_type": "display_data"
    }
   ],
   "source": [
    "# Plot\n",
    "pis = pis.reshape(100, 100)\n",
    "plt.figure(figsize=(5, 5))\n",
    "plt.contourf(X1, X2, pis, levels=np.linspace(0, 1, 100), cmap='seismic')\n",
    "plt.plot(X[y == 1, 0], X[y == 1, 1], 'ko', label='class 1')\n",
    "plt.plot(X[y == -1, 0], X[y == -1, 1], 'kx', label='class -1')\n",
    "plt.xlim([-3, 3])\n",
    "plt.ylim([-3, 3])\n",
    "plt.xlabel('x1')\n",
    "plt.ylabel('x2')\n",
    "plt.legend()\n",
    "plt.colorbar()\n",
    "plt.title('Predictive distribution')\n",
    "plt.show()"
   ]
  },
  {
   "cell_type": "code",
   "execution_count": null,
   "metadata": {},
   "outputs": [],
   "source": []
  }
 ],
 "metadata": {
  "kernelspec": {
   "display_name": "atf",
   "language": "python",
   "name": "python3"
  },
  "language_info": {
   "codemirror_mode": {
    "name": "ipython",
    "version": 3
   },
   "file_extension": ".py",
   "mimetype": "text/x-python",
   "name": "python",
   "nbconvert_exporter": "python",
   "pygments_lexer": "ipython3",
   "version": "3.9.7"
  },
  "orig_nbformat": 4
 },
 "nbformat": 4,
 "nbformat_minor": 2
}
