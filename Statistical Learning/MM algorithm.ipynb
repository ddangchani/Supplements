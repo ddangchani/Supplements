{
 "cells": [
  {
   "attachments": {},
   "cell_type": "markdown",
   "metadata": {},
   "source": [
    "# MM algoritm"
   ]
  },
  {
   "cell_type": "code",
   "execution_count": 17,
   "metadata": {},
   "outputs": [],
   "source": [
    "# Binary logistic regression using MM algorithm\n",
    "\n",
    "import numpy as np\n",
    "import pandas as pd\n",
    "import matplotlib.pyplot as plt\n",
    "import seaborn as sns\n",
    "from scipy.stats import norm, binom\n",
    "import time"
   ]
  },
  {
   "cell_type": "code",
   "execution_count": 18,
   "metadata": {},
   "outputs": [],
   "source": [
    "# Generate data\n",
    "np.random.seed(1)\n",
    "n = 10000\n",
    "p = 5\n",
    "X = np.random.normal(size=(n, p))\n",
    "beta = np.random.normal(size=p)\n",
    "y = np.random.binomial(1, norm.cdf(X @ beta))"
   ]
  },
  {
   "cell_type": "code",
   "execution_count": 34,
   "metadata": {},
   "outputs": [],
   "source": [
    "# MM algorithm for binary logistic regression\n",
    "def MM(X, y, max_iter=1000, tol=1e-6):\n",
    "    start_time = time.time()\n",
    "    n, p = X.shape\n",
    "    beta = np.zeros(p)\n",
    "    Hessian = 4 * np.linalg.inv(X.T @ X)\n",
    "\n",
    "    for i in range(max_iter):\n",
    "        eta = X @ beta\n",
    "        mu = np.exp(eta) / (1 + np.exp(eta))\n",
    "        gradient = X.T @ (y - mu)\n",
    "        beta_new = beta + Hessian @ gradient\n",
    "\n",
    "        if np.linalg.norm(beta_new - beta) < tol:\n",
    "            break\n",
    "        beta = beta_new\n",
    "\n",
    "    return beta, time.time() - start_time\n",
    "\n",
    "beta_hat_MM, time_MM = MM(X, y)"
   ]
  },
  {
   "cell_type": "code",
   "execution_count": 36,
   "metadata": {},
   "outputs": [
    {
     "data": {
      "text/plain": [
       "array([-0.89388483, -0.37188981,  0.19532995, -1.25642386, -0.18809661])"
      ]
     },
     "execution_count": 36,
     "metadata": {},
     "output_type": "execute_result"
    }
   ],
   "source": [
    "beta"
   ]
  },
  {
   "cell_type": "code",
   "execution_count": 35,
   "metadata": {},
   "outputs": [
    {
     "data": {
      "text/plain": [
       "array([-1.51561681, -0.66973556,  0.34973809, -2.14170206, -0.28465471])"
      ]
     },
     "execution_count": 35,
     "metadata": {},
     "output_type": "execute_result"
    }
   ],
   "source": [
    "beta_hat_MM"
   ]
  },
  {
   "cell_type": "code",
   "execution_count": 38,
   "metadata": {},
   "outputs": [],
   "source": [
    "# Compare with iterative reweighted least squares\n",
    "def IRLS(X, y, max_iter=1000, tol=1e-6):\n",
    "    start_time = time.time()\n",
    "    n, p = X.shape\n",
    "    beta = np.zeros(p)\n",
    "\n",
    "    for i in range(max_iter):\n",
    "        eta = X @ beta\n",
    "        mu = np.exp(eta) / (1 + np.exp(eta))\n",
    "        W = np.diag(mu * (1 - mu))\n",
    "        Hessian = X.T @ W @ X\n",
    "        gradient = X.T @ (y - mu)\n",
    "        beta_new = beta + np.linalg.inv(Hessian) @ gradient\n",
    "        if np.linalg.norm(beta_new - beta) < tol:\n",
    "            end_time = time.time()\n",
    "            break\n",
    "        beta = beta_new\n",
    "    return beta, end_time - start_time\n",
    "\n",
    "beta_hat_IRLS, time_IRLS = IRLS(X, y)"
   ]
  },
  {
   "cell_type": "code",
   "execution_count": 39,
   "metadata": {},
   "outputs": [
    {
     "data": {
      "text/plain": [
       "array([-1.51562053, -0.66973723,  0.34973898, -2.1417074 , -0.28465542])"
      ]
     },
     "execution_count": 39,
     "metadata": {},
     "output_type": "execute_result"
    }
   ],
   "source": [
    "beta_hat_IRLS"
   ]
  },
  {
   "cell_type": "code",
   "execution_count": 40,
   "metadata": {},
   "outputs": [
    {
     "name": "stdout",
     "output_type": "stream",
     "text": [
      "MM algorithm:  0.17301678657531738\n",
      "IRLS:  1.429758071899414\n"
     ]
    }
   ],
   "source": [
    "print('MM algorithm: ', time_MM)\n",
    "print('IRLS: ', time_IRLS)"
   ]
  }
 ],
 "metadata": {
  "kernelspec": {
   "display_name": "atf",
   "language": "python",
   "name": "python3"
  },
  "language_info": {
   "codemirror_mode": {
    "name": "ipython",
    "version": 3
   },
   "file_extension": ".py",
   "mimetype": "text/x-python",
   "name": "python",
   "nbconvert_exporter": "python",
   "pygments_lexer": "ipython3",
   "version": "3.9.7"
  },
  "orig_nbformat": 4
 },
 "nbformat": 4,
 "nbformat_minor": 2
}
