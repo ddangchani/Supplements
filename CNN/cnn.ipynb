{
 "cells": [
  {
   "cell_type": "code",
   "execution_count": 17,
   "metadata": {},
   "outputs": [
    {
     "data": {
      "text/plain": [
       "(28, 28)"
      ]
     },
     "execution_count": 17,
     "metadata": {},
     "output_type": "execute_result"
    }
   ],
   "source": [
    "import tensorflow as tf\n",
    "import numpy as np\n",
    "from tensorflow import keras\n",
    "from keras.utils.np_utils import to_categorical\n",
    "from keras.models import Sequential\n",
    "from keras import Model\n",
    "\n",
    "(X_train, y_train), (X_test, y_test) = keras.datasets.mnist.load_data()\n",
    "\n",
    "X_train[0].shape"
   ]
  },
  {
   "cell_type": "code",
   "execution_count": 18,
   "metadata": {},
   "outputs": [
    {
     "data": {
      "text/plain": [
       "(28, 28, 1)"
      ]
     },
     "execution_count": 18,
     "metadata": {},
     "output_type": "execute_result"
    }
   ],
   "source": [
    "# Adding new axis\n",
    "X_train = X_train[:,:,:, np.newaxis]\n",
    "X_test = X_test[:,:,:, np.newaxis]\n",
    "X_train[0].shape"
   ]
  },
  {
   "cell_type": "code",
   "execution_count": 19,
   "metadata": {},
   "outputs": [],
   "source": [
    "# One-hot encoding\n",
    "num_classes = 10\n",
    "y_train = to_categorical(y_train, num_classes)\n",
    "y_test = to_categorical(y_test, num_classes)"
   ]
  },
  {
   "cell_type": "code",
   "execution_count": 20,
   "metadata": {},
   "outputs": [],
   "source": [
    "# Data Normalization\n",
    "X_train = X_train.astype('float32')/255\n",
    "X_test = X_test.astype('float32')/255\n",
    "X_test = X_test.astype('float32')/255"
   ]
  },
  {
   "cell_type": "code",
   "execution_count": 30,
   "metadata": {},
   "outputs": [],
   "source": [
    "# LeNet-5\n",
    "class Lenet(Sequential):\n",
    "    def __init__(self, input_shape, nb_classes):\n",
    "        super().__init__() # Sequential class의 __init__ 상속\n",
    "        \n",
    "        self.add(keras.layers.Conv2D(\n",
    "            6, kernel_size=(5,5), strides=(1,1), activation = 'tanh', input_shape=input_shape, padding = \"same\"\n",
    "        ))\n",
    "        \n",
    "        self.add(keras.layers.AveragePooling2D(\n",
    "            pool_size = (2,2), strides = (2,2), padding = \"valid\"\n",
    "        ))\n",
    "\n",
    "        self.add(keras.layers.Conv2D(\n",
    "            16, kernel_size = (5,5), strides = (1,1), activation='tanh', padding='valid'\n",
    "        ))\n",
    "\n",
    "        self.add(keras.layers.AveragePooling2D(\n",
    "            pool_size = (2,2), strides = (2,2), padding='valid'\n",
    "        ))\n",
    "\n",
    "        self.add(keras.layers.Flatten())\n",
    "        self.add(keras.layers.Dense(120, activation='tanh'))\n",
    "        self.add(keras.layers.Dense(84, activation='tanh'))\n",
    "        self.add(keras.layers.Dense(nb_classes, activation='softmax'))\n",
    "\n",
    "        self.compile(\n",
    "            optimizer='adam', loss='categorical_crossentropy', metrics = ['accuracy']\n",
    "        )"
   ]
  },
  {
   "cell_type": "code",
   "execution_count": 31,
   "metadata": {},
   "outputs": [
    {
     "name": "stdout",
     "output_type": "stream",
     "text": [
      "Model: \"lenet_7\"\n",
      "_________________________________________________________________\n",
      " Layer (type)                Output Shape              Param #   \n",
      "=================================================================\n",
      " conv2d_13 (Conv2D)          (None, 28, 28, 6)         156       \n",
      "                                                                 \n",
      " average_pooling2d_12 (Avera  (None, 14, 14, 6)        0         \n",
      " gePooling2D)                                                    \n",
      "                                                                 \n",
      " conv2d_14 (Conv2D)          (None, 10, 10, 16)        2416      \n",
      "                                                                 \n",
      " average_pooling2d_13 (Avera  (None, 5, 5, 16)         0         \n",
      " gePooling2D)                                                    \n",
      "                                                                 \n",
      " flatten_5 (Flatten)         (None, 400)               0         \n",
      "                                                                 \n",
      " dense_15 (Dense)            (None, 120)               48120     \n",
      "                                                                 \n",
      " dense_16 (Dense)            (None, 84)                10164     \n",
      "                                                                 \n",
      " dense_17 (Dense)            (None, 10)                850       \n",
      "                                                                 \n",
      "=================================================================\n",
      "Total params: 61,706\n",
      "Trainable params: 61,706\n",
      "Non-trainable params: 0\n",
      "_________________________________________________________________\n"
     ]
    }
   ],
   "source": [
    "model = Lenet(X_train[0].shape, num_classes)\n",
    "model.summary()"
   ]
  },
  {
   "cell_type": "code",
   "execution_count": 34,
   "metadata": {},
   "outputs": [],
   "source": [
    "# logging\n",
    "import datetime\n",
    "log_dir = \"logs_cnn/fit/\"+ datetime.datetime.now().strftime('%Y%m%d-%H%M%S')\n",
    "tensorboard_callback = tf.keras.callbacks.TensorBoard(log_dir = log_dir, histogram_freq=1)"
   ]
  },
  {
   "cell_type": "code",
   "execution_count": 39,
   "metadata": {},
   "outputs": [
    {
     "name": "stderr",
     "output_type": "stream",
     "text": [
      "\n",
      "Training:  10%|█          1/10 ETA: 11:42s,  78.11s/epochs\n"
     ]
    },
    {
     "name": "stdout",
     "output_type": "stream",
     "text": [
      "Epoch 1/10\n"
     ]
    },
    {
     "name": "stderr",
     "output_type": "stream",
     "text": [
      "705/1875███▊       ETA: 00:56s - loss: 0.0107 - accuracy: 0.9965\n",
      "1875/1875██████████ ETA: 00:00s - loss: 0.0167 - accuracy: 0.9944 - val_loss: 0.0529 - val_accuracy: 0.9852\n",
      "\n",
      "\u001b[A"
     ]
    },
    {
     "name": "stdout",
     "output_type": "stream",
     "text": [
      "Epoch 2/10\n"
     ]
    },
    {
     "name": "stderr",
     "output_type": "stream",
     "text": [
      "1875/1875██████████ ETA: 00:00s - loss: 0.0133 - accuracy: 0.9953 - val_loss: 0.0575 - val_accuracy: 0.9852\n",
      "\n",
      "\u001b[A"
     ]
    },
    {
     "name": "stdout",
     "output_type": "stream",
     "text": [
      "Epoch 3/10\n"
     ]
    },
    {
     "name": "stderr",
     "output_type": "stream",
     "text": [
      "1875/1875██████████ ETA: 00:00s - loss: 0.0142 - accuracy: 0.9953 - val_loss: 0.0592 - val_accuracy: 0.9851\n",
      "\n",
      "\u001b[A"
     ]
    },
    {
     "name": "stdout",
     "output_type": "stream",
     "text": [
      "Epoch 4/10\n"
     ]
    },
    {
     "name": "stderr",
     "output_type": "stream",
     "text": [
      "1875/1875██████████ ETA: 00:00s - loss: 0.0099 - accuracy: 0.9967 - val_loss: 0.0607 - val_accuracy: 0.9859\n",
      "\n",
      "\u001b[A"
     ]
    },
    {
     "name": "stdout",
     "output_type": "stream",
     "text": [
      "Epoch 5/10\n"
     ]
    },
    {
     "name": "stderr",
     "output_type": "stream",
     "text": [
      "1875/1875██████████ ETA: 00:00s - loss: 0.0114 - accuracy: 0.9960 - val_loss: 0.0643 - val_accuracy: 0.9844\n",
      "\n",
      "\u001b[A"
     ]
    },
    {
     "name": "stdout",
     "output_type": "stream",
     "text": [
      "Epoch 6/10\n"
     ]
    },
    {
     "name": "stderr",
     "output_type": "stream",
     "text": [
      "1875/1875██████████ ETA: 00:00s - loss: 0.0092 - accuracy: 0.9969 - val_loss: 0.0579 - val_accuracy: 0.9850\n",
      "\n",
      "\u001b[A"
     ]
    },
    {
     "name": "stdout",
     "output_type": "stream",
     "text": [
      "Epoch 7/10\n"
     ]
    },
    {
     "name": "stderr",
     "output_type": "stream",
     "text": [
      "1875/1875██████████ ETA: 00:00s - loss: 0.0089 - accuracy: 0.9970 - val_loss: 0.0616 - val_accuracy: 0.9848\n",
      "\n",
      "\u001b[A"
     ]
    },
    {
     "name": "stdout",
     "output_type": "stream",
     "text": [
      "Epoch 8/10\n"
     ]
    },
    {
     "name": "stderr",
     "output_type": "stream",
     "text": [
      "1875/1875██████████ ETA: 00:00s - loss: 0.0087 - accuracy: 0.9969 - val_loss: 0.0628 - val_accuracy: 0.9848\n",
      "\n",
      "\u001b[A"
     ]
    },
    {
     "name": "stdout",
     "output_type": "stream",
     "text": [
      "Epoch 9/10\n"
     ]
    },
    {
     "name": "stderr",
     "output_type": "stream",
     "text": [
      "1875/1875██████████ ETA: 00:00s - loss: 0.0083 - accuracy: 0.9974 - val_loss: 0.0614 - val_accuracy: 0.9849\n",
      "\n",
      "\u001b[A"
     ]
    },
    {
     "name": "stdout",
     "output_type": "stream",
     "text": [
      "Epoch 10/10\n"
     ]
    },
    {
     "name": "stderr",
     "output_type": "stream",
     "text": [
      "1875/1875██████████ ETA: 00:00s - loss: 0.0077 - accuracy: 0.9974 - val_loss: 0.0573 - val_accuracy: 0.9871\n",
      "\n",
      "Training: 100%|██████████ 10/10 ETA: 00:00s,  44.96s/epochs\n"
     ]
    },
    {
     "data": {
      "text/plain": [
       "<keras.callbacks.History at 0x28d758bb0>"
      ]
     },
     "execution_count": 39,
     "metadata": {},
     "output_type": "execute_result"
    }
   ],
   "source": [
    "import tensorflow_addons as tfa\n",
    "tqdm_callback = tfa.callbacks.TQDMProgressBar()\n",
    "\n",
    "model.fit(\n",
    "    X_train, y_train, epochs=10, validation_data=(X_test, y_test),\n",
    "    callbacks=[tensorboard_callback, tqdm_callback],\n",
    "    verbose=0, use_multiprocessing = True\n",
    ")"
   ]
  },
  {
   "cell_type": "code",
   "execution_count": null,
   "metadata": {},
   "outputs": [],
   "source": []
  }
 ],
 "metadata": {
  "interpreter": {
   "hash": "057b2dfdcbeb6152fe7a6de916733e2aadd6aefdf07a18e5e9a0b06119769157"
  },
  "kernelspec": {
   "display_name": "Python 3.9.7 ('atf')",
   "language": "python",
   "name": "python3"
  },
  "language_info": {
   "codemirror_mode": {
    "name": "ipython",
    "version": 3
   },
   "file_extension": ".py",
   "mimetype": "text/x-python",
   "name": "python",
   "nbconvert_exporter": "python",
   "pygments_lexer": "ipython3",
   "version": "3.9.7"
  },
  "orig_nbformat": 4
 },
 "nbformat": 4,
 "nbformat_minor": 2
}
