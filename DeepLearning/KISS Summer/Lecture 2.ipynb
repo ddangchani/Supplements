{
 "cells": [
  {
   "cell_type": "code",
   "execution_count": 11,
   "metadata": {},
   "outputs": [],
   "source": [
    "import pandas as pd\n",
    "import tensorflow as tf\n",
    "import numpy as np\n",
    "from tensorflow import keras\n",
    "\n",
    "# package for simple neural network\n",
    "\n",
    "from keras.datasets import mnist\n",
    "from keras.models import Sequential\n",
    "from keras.layers import Dense, Dropout, Flatten\n",
    "from keras.utils.np_utils import to_categorical\n",
    "from keras.callbacks import EarlyStopping, ModelCheckpoint"
   ]
  },
  {
   "cell_type": "code",
   "execution_count": 7,
   "metadata": {},
   "outputs": [
    {
     "data": {
      "image/png": "[encoded data removed]",
      "text/plain": [
       "<Figure size 432x288 with 1 Axes>"
      ]
     },
     "metadata": {
      "needs_background": "light"
     },
     "output_type": "display_data"
    }
   ],
   "source": [
    "# Load mnist data\n",
    "(x_train, y_train), (x_test, y_test) = mnist.load_data()\n",
    "\n",
    "# Plot the first image\n",
    "import matplotlib.pyplot as plt\n",
    "plt.imshow(x_train[0], cmap='gray')\n",
    "plt.show()"
   ]
  },
  {
   "cell_type": "code",
   "execution_count": 8,
   "metadata": {},
   "outputs": [
    {
     "name": "stdout",
     "output_type": "stream",
     "text": [
      "(60000, 784) (10000, 784)\n"
     ]
    }
   ],
   "source": [
    "# Normalize the data\n",
    "x_train = x_train / 255\n",
    "x_test = x_test / 255\n",
    "\n",
    "# Reshape the data\n",
    "x_train = x_train.reshape(-1, 28*28)\n",
    "x_test = x_test.reshape(-1, 28*28)\n",
    "\n",
    "print(x_train.shape, x_test.shape)"
   ]
  },
  {
   "cell_type": "code",
   "execution_count": 9,
   "metadata": {},
   "outputs": [
    {
     "name": "stdout",
     "output_type": "stream",
     "text": [
      "Model: \"sequential\"\n",
      "_________________________________________________________________\n",
      " Layer (type)                Output Shape              Param #   \n",
      "=================================================================\n",
      " dense (Dense)               (None, 256)               200960    \n",
      "                                                                 \n",
      " dropout (Dropout)           (None, 256)               0         \n",
      "                                                                 \n",
      " dense_1 (Dense)             (None, 128)               32896     \n",
      "                                                                 \n",
      " dropout_1 (Dropout)         (None, 128)               0         \n",
      "                                                                 \n",
      " dense_2 (Dense)             (None, 10)                1290      \n",
      "                                                                 \n",
      "=================================================================\n",
      "Total params: 235,146\n",
      "Trainable params: 235,146\n",
      "Non-trainable params: 0\n",
      "_________________________________________________________________\n"
     ]
    }
   ],
   "source": [
    "# Build the model\n",
    "model = Sequential()\n",
    "model.add(Dense(256, activation='relu', input_shape=(784,)))\n",
    "model.add(Dropout(0.4))\n",
    "model.add(Dense(128, activation='relu'))\n",
    "model.add(Dropout(0.3))\n",
    "model.add(Dense(10, activation='softmax'))\n",
    "\n",
    "# Summary of the model\n",
    "model.summary()"
   ]
  },
  {
   "cell_type": "code",
   "execution_count": 12,
   "metadata": {},
   "outputs": [],
   "source": [
    "# Compile the model\n",
    "model.compile(loss='categorical_crossentropy', optimizer='adam', metrics=['accuracy'])"
   ]
  },
  {
   "cell_type": "code",
   "execution_count": 13,
   "metadata": {},
   "outputs": [],
   "source": [
    "# Early stopping\n",
    "es = EarlyStopping(monitor='val_loss', mode='min', verbose=1, patience=5)"
   ]
  },
  {
   "cell_type": "code",
   "execution_count": 14,
   "metadata": {},
   "outputs": [],
   "source": [
    "# Checkpoint\n",
    "mc = ModelCheckpoint('best_model.h5', monitor='val_accuracy', mode='max', verbose=1, save_best_only=True)"
   ]
  },
  {
   "cell_type": "code",
   "execution_count": 15,
   "metadata": {},
   "outputs": [
    {
     "name": "stdout",
     "output_type": "stream",
     "text": [
      "Epoch 1/50\n",
      "373/375 [============================>.] - ETA: 0s - loss: 0.4437 - accuracy: 0.8627\n",
      "Epoch 1: val_accuracy improved from -inf to 0.95517, saving model to best_model.h5\n",
      "375/375 [==============================] - 12s 20ms/step - loss: 0.4425 - accuracy: 0.8630 - val_loss: 0.1556 - val_accuracy: 0.9552\n",
      "Epoch 2/50\n",
      "373/375 [============================>.] - ETA: 0s - loss: 0.1853 - accuracy: 0.9438\n",
      "Epoch 2: val_accuracy improved from 0.95517 to 0.96417, saving model to best_model.h5\n",
      "375/375 [==============================] - 7s 19ms/step - loss: 0.1851 - accuracy: 0.9439 - val_loss: 0.1201 - val_accuracy: 0.9642\n",
      "Epoch 3/50\n",
      "375/375 [==============================] - ETA: 0s - loss: 0.1393 - accuracy: 0.9579\n",
      "Epoch 3: val_accuracy improved from 0.96417 to 0.96925, saving model to best_model.h5\n",
      "375/375 [==============================] - 7s 19ms/step - loss: 0.1393 - accuracy: 0.9579 - val_loss: 0.1010 - val_accuracy: 0.9693\n",
      "Epoch 4/50\n",
      "372/375 [============================>.] - ETA: 0s - loss: 0.1171 - accuracy: 0.9637\n",
      "Epoch 4: val_accuracy improved from 0.96925 to 0.97225, saving model to best_model.h5\n",
      "375/375 [==============================] - 7s 19ms/step - loss: 0.1168 - accuracy: 0.9638 - val_loss: 0.0904 - val_accuracy: 0.9722\n",
      "Epoch 5/50\n",
      "375/375 [==============================] - ETA: 0s - loss: 0.0998 - accuracy: 0.9695\n",
      "Epoch 5: val_accuracy improved from 0.97225 to 0.97300, saving model to best_model.h5\n",
      "375/375 [==============================] - 7s 20ms/step - loss: 0.0998 - accuracy: 0.9695 - val_loss: 0.0927 - val_accuracy: 0.9730\n",
      "Epoch 6/50\n",
      "373/375 [============================>.] - ETA: 0s - loss: 0.0861 - accuracy: 0.9734\n",
      "Epoch 6: val_accuracy improved from 0.97300 to 0.97550, saving model to best_model.h5\n",
      "375/375 [==============================] - 7s 19ms/step - loss: 0.0861 - accuracy: 0.9734 - val_loss: 0.0839 - val_accuracy: 0.9755\n",
      "Epoch 7/50\n",
      "375/375 [==============================] - ETA: 0s - loss: 0.0796 - accuracy: 0.9747\n",
      "Epoch 7: val_accuracy improved from 0.97550 to 0.97608, saving model to best_model.h5\n",
      "375/375 [==============================] - 7s 19ms/step - loss: 0.0796 - accuracy: 0.9747 - val_loss: 0.0787 - val_accuracy: 0.9761\n",
      "Epoch 8/50\n",
      "372/375 [============================>.] - ETA: 0s - loss: 0.0685 - accuracy: 0.9782\n",
      "Epoch 8: val_accuracy improved from 0.97608 to 0.97658, saving model to best_model.h5\n",
      "375/375 [==============================] - 7s 20ms/step - loss: 0.0684 - accuracy: 0.9781 - val_loss: 0.0777 - val_accuracy: 0.9766\n",
      "Epoch 9/50\n",
      "372/375 [============================>.] - ETA: 0s - loss: 0.0640 - accuracy: 0.9794\n",
      "Epoch 9: val_accuracy improved from 0.97658 to 0.97700, saving model to best_model.h5\n",
      "375/375 [==============================] - 7s 19ms/step - loss: 0.0639 - accuracy: 0.9794 - val_loss: 0.0754 - val_accuracy: 0.9770\n",
      "Epoch 10/50\n",
      "372/375 [============================>.] - ETA: 0s - loss: 0.0612 - accuracy: 0.9802\n",
      "Epoch 10: val_accuracy improved from 0.97700 to 0.97733, saving model to best_model.h5\n",
      "375/375 [==============================] - 8s 21ms/step - loss: 0.0611 - accuracy: 0.9802 - val_loss: 0.0823 - val_accuracy: 0.9773\n",
      "Epoch 11/50\n",
      "374/375 [============================>.] - ETA: 0s - loss: 0.0549 - accuracy: 0.9823\n",
      "Epoch 11: val_accuracy improved from 0.97733 to 0.97875, saving model to best_model.h5\n",
      "375/375 [==============================] - 7s 19ms/step - loss: 0.0551 - accuracy: 0.9823 - val_loss: 0.0724 - val_accuracy: 0.9787\n",
      "Epoch 12/50\n",
      "373/375 [============================>.] - ETA: 0s - loss: 0.0501 - accuracy: 0.9835\n",
      "Epoch 12: val_accuracy improved from 0.97875 to 0.97908, saving model to best_model.h5\n",
      "375/375 [==============================] - 7s 19ms/step - loss: 0.0503 - accuracy: 0.9834 - val_loss: 0.0718 - val_accuracy: 0.9791\n",
      "Epoch 13/50\n",
      "374/375 [============================>.] - ETA: 0s - loss: 0.0479 - accuracy: 0.9846\n",
      "Epoch 13: val_accuracy did not improve from 0.97908\n",
      "375/375 [==============================] - 7s 19ms/step - loss: 0.0479 - accuracy: 0.9847 - val_loss: 0.0780 - val_accuracy: 0.9776\n",
      "Epoch 14/50\n",
      "375/375 [==============================] - ETA: 0s - loss: 0.0467 - accuracy: 0.9845\n",
      "Epoch 14: val_accuracy did not improve from 0.97908\n",
      "375/375 [==============================] - 7s 19ms/step - loss: 0.0467 - accuracy: 0.9845 - val_loss: 0.0799 - val_accuracy: 0.9777\n",
      "Epoch 15/50\n",
      "372/375 [============================>.] - ETA: 0s - loss: 0.0433 - accuracy: 0.9860\n",
      "Epoch 15: val_accuracy did not improve from 0.97908\n",
      "375/375 [==============================] - 7s 19ms/step - loss: 0.0434 - accuracy: 0.9859 - val_loss: 0.0743 - val_accuracy: 0.9783\n",
      "Epoch 16/50\n",
      "374/375 [============================>.] - ETA: 0s - loss: 0.0408 - accuracy: 0.9864\n",
      "Epoch 16: val_accuracy improved from 0.97908 to 0.97975, saving model to best_model.h5\n",
      "375/375 [==============================] - 7s 19ms/step - loss: 0.0409 - accuracy: 0.9864 - val_loss: 0.0731 - val_accuracy: 0.9797\n",
      "Epoch 17/50\n",
      "374/375 [============================>.] - ETA: 0s - loss: 0.0402 - accuracy: 0.9870\n",
      "Epoch 17: val_accuracy did not improve from 0.97975\n",
      "375/375 [==============================] - 7s 19ms/step - loss: 0.0402 - accuracy: 0.9870 - val_loss: 0.0766 - val_accuracy: 0.9797\n",
      "Epoch 17: early stopping\n"
     ]
    }
   ],
   "source": [
    "# Train the model\n",
    "history = model.fit(x_train, to_categorical(y_train), epochs=50, batch_size=128, validation_split=0.2, callbacks=[es, mc])"
   ]
  },
  {
   "cell_type": "code",
   "execution_count": 18,
   "metadata": {},
   "outputs": [
    {
     "data": {
      "image/png": "[encoded data removed]",
      "text/plain": [
       "<Figure size 432x288 with 1 Axes>"
      ]
     },
     "metadata": {
      "needs_background": "light"
     },
     "output_type": "display_data"
    }
   ],
   "source": [
    "# Plot the accuracy and loss\n",
    "plt.plot(history.history['accuracy'])\n",
    "plt.plot(history.history['val_accuracy'])\n",
    "plt.legend(['train', 'test'], loc='upper left')\n",
    "plt.xlabel('epoch')\n",
    "plt.ylabel('accuracy')\n",
    "plt.show()\n"
   ]
  },
  {
   "cell_type": "code",
   "execution_count": 19,
   "metadata": {},
   "outputs": [
    {
     "name": "stdout",
     "output_type": "stream",
     "text": [
      "313/313 [==============================] - 4s 14ms/step - loss: 0.0685 - accuracy: 0.9813\n"
     ]
    },
    {
     "data": {
      "text/plain": [
       "[0.06850866973400116, 0.9812999963760376]"
      ]
     },
     "execution_count": 19,
     "metadata": {},
     "output_type": "execute_result"
    }
   ],
   "source": [
    "# Evaluate the model\n",
    "model.evaluate(x_test, to_categorical(y_test))"
   ]
  },
  {
   "cell_type": "code",
   "execution_count": 24,
   "metadata": {},
   "outputs": [
    {
     "name": "stdout",
     "output_type": "stream",
     "text": [
      "0.9996922764473343\n"
     ]
    }
   ],
   "source": [
    "# ROC value\n",
    "from sklearn.metrics import roc_auc_score\n",
    "\n",
    "y_pred = model.predict(x_test)\n",
    "\n",
    "micro_roc_auc = roc_auc_score(y_test, y_pred, multi_class=\"ovr\", average=\"macro\")\n",
    "\n",
    "print(micro_roc_auc)"
   ]
  },
  {
   "cell_type": "code",
   "execution_count": null,
   "metadata": {},
   "outputs": [],
   "source": []
  }
 ],
 "metadata": {
  "kernelspec": {
   "display_name": "atf",
   "language": "python",
   "name": "python3"
  },
  "language_info": {
   "codemirror_mode": {
    "name": "ipython",
    "version": 3
   },
   "file_extension": ".py",
   "mimetype": "text/x-python",
   "name": "python",
   "nbconvert_exporter": "python",
   "pygments_lexer": "ipython3",
   "version": "3.9.7"
  },
  "orig_nbformat": 4
 },
 "nbformat": 4,
 "nbformat_minor": 2
}
